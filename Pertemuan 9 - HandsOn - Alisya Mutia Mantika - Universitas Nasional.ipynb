{
 "cells": [
  {
   "cell_type": "markdown",
   "id": "c2850f54",
   "metadata": {
    "id": "c2850f54"
   },
   "source": [
    "# Exercise 9: Regresi Linier Sederhana\n",
    "<hr>"
   ]
  },
  {
   "cell_type": "markdown",
   "id": "f751122c",
   "metadata": {},
   "source": [
    "Nama : Alisya Mutia Mantika\n",
    "\n",
    "NPM : 207064516054\n",
    "\n",
    "Asal PT : Universitas Nasional"
   ]
  },
  {
   "cell_type": "markdown",
   "id": "bf31663b-e486-4fbe-ac84-4702f6a518cd",
   "metadata": {
    "button": false,
    "id": "bf31663b-e486-4fbe-ac84-4702f6a518cd",
    "new_sheet": false,
    "run_control": {
     "read_only": false
    },
    "tags": []
   },
   "source": [
    "\n",
    "#### Tentang Notebook\n",
    "Dalam hands-on ini, akan mempelajari cara menggunakan scikit-learn untuk mengimplementasikan regresi linier sederhana. Data yang digunakan adalah kumpulan data yang berkaitan dengan spesifikasi mobil dengan pengaruhnya terhadap tingkat emisi CO2. Kemudian data tersebut dibagi menjadi data latih dan data uji, kemudian pembuatan model menggunakan dataset latih, evaluasi model menggunakan dataset uji, dan terakhir penggunaan model untuk memprediksi nilai yang tidak diketahui."
   ]
  },
  {
   "cell_type": "markdown",
   "id": "73ede50a-e839-405f-94bd-c87a2f711fc7",
   "metadata": {
    "id": "73ede50a-e839-405f-94bd-c87a2f711fc7",
    "tags": []
   },
   "source": [
    "### Melakukan import library yang dibutuhkan"
   ]
  },
  {
   "cell_type": "code",
   "execution_count": 2,
   "id": "e62c0c94-7a6c-4c2c-b7d2-957d550ff1fb",
   "metadata": {
    "id": "e62c0c94-7a6c-4c2c-b7d2-957d550ff1fb"
   },
   "outputs": [],
   "source": [
    "# import library pandas\n",
    "import pandas as pd\n",
    "\n",
    "# Import library numpy\n",
    "import numpy as np\n",
    "\n",
    "# Import library matplotlib dan seaborn untuk visualisasi\n",
    "import matplotlib.pyplot as plt\n",
    "import seaborn as sns\n",
    "\n",
    "# Import Module LinearRegression digunakan untuk memanggil algoritma Linear Regression.\n",
    "from sklearn.linear_model import LinearRegression\n",
    "\n",
    "# import Module train_test_split digunakan untuk membagi data kita menjadi training dan testing set.\n",
    "from sklearn.model_selection import train_test_split\n",
    "\n",
    "# import modul mean_absolute_error dari library sklearn\n",
    "from sklearn.metrics import mean_absolute_error\n",
    "\n",
    "#import math agar program dapat menggunakan semua fungsi yang ada pada modul math.(ex:sqrt)\n",
    "import math \n",
    "\n",
    "# me-non aktifkan peringatan pada python\n",
    "import warnings \n",
    "warnings.filterwarnings('ignore')"
   ]
  },
  {
   "cell_type": "markdown",
   "id": "d830ef69-efe8-4ab3-b240-3efc5107a750",
   "metadata": {
    "button": false,
    "id": "d830ef69-efe8-4ab3-b240-3efc5107a750",
    "new_sheet": false,
    "run_control": {
     "read_only": false
    }
   },
   "source": [
    "### Data Understanding\n",
    "---"
   ]
  },
  {
   "cell_type": "markdown",
   "id": "bddacbb1-7143-43a5-bef2-09217d3fd10b",
   "metadata": {
    "id": "bddacbb1-7143-43a5-bef2-09217d3fd10b"
   },
   "source": [
    "#### FuelConsumptionCo2.csv:\n",
    ">Dataset ini menangkap rincian bagaimana emisi CO2 oleh kendaraan dapat bervariasi dengan fitur yang berbeda. Dataset telah diambil dari situs web data terbuka resmi Pemerintah Kanada. Ini adalah versi yang dikompilasi. Ini berisi data selama 7 tahun. Ada total 1067 baris dan 13 kolom.\n",
    "[Dataset source](http://open.canada.ca/data/en/dataset/98f1a129-f628-4ce4-b24d-6f16bf24dd64)\n",
    "\n",
    "**Deskripsi Data :**\n",
    "\n",
    "- MODEL\n",
    "    - 4WD/4X4 = Four-wheel drive\n",
    "    - AWD = All-wheel drive\n",
    "    - FFV = Flexible-fuel vehicle\n",
    "    - SWB = Short wheelbase\n",
    "    - LWB = Long wheelbase\n",
    "    - EWB = Extended wheelbase\n",
    "\n",
    "- Transmission\n",
    "    - A = Automatic\n",
    "    - AM = Automated manual\n",
    "    - AS = Automatic with select shift\n",
    "    - AV = Continuously variable\n",
    "    - M = Manual\n",
    "    - 3 - 10 = Number of gears\n",
    "\n",
    "- Fuel type\n",
    "    - X = Regular gasoline\n",
    "    - Z = Premium gasoline\n",
    "    - D = Diesel\n",
    "    - E = Ethanol (E85)\n",
    "    - N = Natural gas\n",
    "\n",
    "- Fuel Consumption\n",
    "    - City and highway fuel consumption ratings are shown in litres per 100 kilometres (L/100 km) \n",
    "    - the combined rating (55% city, 45% hwy) is shown in in miles per 100 gallon (mpg)\n",
    "    \n",
    "- CO2 Emissions\n",
    "    - Emisi knalpot karbon dioksida (dalam gram per kilometer) untuk gabungan mengemudi di kota dan jalan raya    "
   ]
  },
  {
   "cell_type": "markdown",
   "id": "8d0f23a9-dd05-490c-89b0-3bde19cc335c",
   "metadata": {
    "button": false,
    "id": "8d0f23a9-dd05-490c-89b0-3bde19cc335c",
    "new_sheet": false,
    "run_control": {
     "read_only": false
    }
   },
   "source": [
    "### Membaca Data\n",
    "---"
   ]
  },
  {
   "cell_type": "code",
   "execution_count": 3,
   "id": "becf315b-dc11-49c6-acae-ff2bd4cfb4f2",
   "metadata": {
    "_cell_guid": "79c7e3d0-c299-4dcb-8224-4455121ee9b0",
    "_uuid": "d629ff2d2480ee46fbb7e2d37f6b5fab8052498a",
    "id": "becf315b-dc11-49c6-acae-ff2bd4cfb4f2",
    "outputId": "3c4a1fa6-05c7-49da-cd63-81cd154a1114",
    "papermill": {
     "duration": 0.046297,
     "end_time": "2020-12-18T08:30:29.751394",
     "exception": false,
     "start_time": "2020-12-18T08:30:29.705097",
     "status": "completed"
    },
    "tags": []
   },
   "outputs": [
    {
     "data": {
      "text/html": [
       "<div>\n",
       "<style scoped>\n",
       "    .dataframe tbody tr th:only-of-type {\n",
       "        vertical-align: middle;\n",
       "    }\n",
       "\n",
       "    .dataframe tbody tr th {\n",
       "        vertical-align: top;\n",
       "    }\n",
       "\n",
       "    .dataframe thead th {\n",
       "        text-align: right;\n",
       "    }\n",
       "</style>\n",
       "<table border=\"1\" class=\"dataframe\">\n",
       "  <thead>\n",
       "    <tr style=\"text-align: right;\">\n",
       "      <th></th>\n",
       "      <th>MODELYEAR</th>\n",
       "      <th>MAKE</th>\n",
       "      <th>MODEL</th>\n",
       "      <th>VEHICLECLASS</th>\n",
       "      <th>ENGINESIZE</th>\n",
       "      <th>CYLINDERS</th>\n",
       "      <th>TRANSMISSION</th>\n",
       "      <th>FUELTYPE</th>\n",
       "      <th>FUELCONSUMPTION_CITY</th>\n",
       "      <th>FUELCONSUMPTION_HWY</th>\n",
       "      <th>FUELCONSUMPTION_COMB</th>\n",
       "      <th>FUELCONSUMPTION_COMB_MPG</th>\n",
       "      <th>CO2EMISSIONS</th>\n",
       "    </tr>\n",
       "  </thead>\n",
       "  <tbody>\n",
       "    <tr>\n",
       "      <th>0</th>\n",
       "      <td>2014</td>\n",
       "      <td>ACURA</td>\n",
       "      <td>ILX</td>\n",
       "      <td>COMPACT</td>\n",
       "      <td>2.0</td>\n",
       "      <td>4</td>\n",
       "      <td>AS5</td>\n",
       "      <td>Z</td>\n",
       "      <td>9.9</td>\n",
       "      <td>6.7</td>\n",
       "      <td>8.5</td>\n",
       "      <td>33</td>\n",
       "      <td>196</td>\n",
       "    </tr>\n",
       "    <tr>\n",
       "      <th>1</th>\n",
       "      <td>2014</td>\n",
       "      <td>ACURA</td>\n",
       "      <td>ILX</td>\n",
       "      <td>COMPACT</td>\n",
       "      <td>2.4</td>\n",
       "      <td>4</td>\n",
       "      <td>M6</td>\n",
       "      <td>Z</td>\n",
       "      <td>11.2</td>\n",
       "      <td>7.7</td>\n",
       "      <td>9.6</td>\n",
       "      <td>29</td>\n",
       "      <td>221</td>\n",
       "    </tr>\n",
       "    <tr>\n",
       "      <th>2</th>\n",
       "      <td>2014</td>\n",
       "      <td>ACURA</td>\n",
       "      <td>ILX HYBRID</td>\n",
       "      <td>COMPACT</td>\n",
       "      <td>1.5</td>\n",
       "      <td>4</td>\n",
       "      <td>AV7</td>\n",
       "      <td>Z</td>\n",
       "      <td>6.0</td>\n",
       "      <td>5.8</td>\n",
       "      <td>5.9</td>\n",
       "      <td>48</td>\n",
       "      <td>136</td>\n",
       "    </tr>\n",
       "    <tr>\n",
       "      <th>3</th>\n",
       "      <td>2014</td>\n",
       "      <td>ACURA</td>\n",
       "      <td>MDX 4WD</td>\n",
       "      <td>SUV - SMALL</td>\n",
       "      <td>3.5</td>\n",
       "      <td>6</td>\n",
       "      <td>AS6</td>\n",
       "      <td>Z</td>\n",
       "      <td>12.7</td>\n",
       "      <td>9.1</td>\n",
       "      <td>11.1</td>\n",
       "      <td>25</td>\n",
       "      <td>255</td>\n",
       "    </tr>\n",
       "    <tr>\n",
       "      <th>4</th>\n",
       "      <td>2014</td>\n",
       "      <td>ACURA</td>\n",
       "      <td>RDX AWD</td>\n",
       "      <td>SUV - SMALL</td>\n",
       "      <td>3.5</td>\n",
       "      <td>6</td>\n",
       "      <td>AS6</td>\n",
       "      <td>Z</td>\n",
       "      <td>12.1</td>\n",
       "      <td>8.7</td>\n",
       "      <td>10.6</td>\n",
       "      <td>27</td>\n",
       "      <td>244</td>\n",
       "    </tr>\n",
       "    <tr>\n",
       "      <th>5</th>\n",
       "      <td>2014</td>\n",
       "      <td>ACURA</td>\n",
       "      <td>RLX</td>\n",
       "      <td>MID-SIZE</td>\n",
       "      <td>3.5</td>\n",
       "      <td>6</td>\n",
       "      <td>AS6</td>\n",
       "      <td>Z</td>\n",
       "      <td>11.9</td>\n",
       "      <td>7.7</td>\n",
       "      <td>10.0</td>\n",
       "      <td>28</td>\n",
       "      <td>230</td>\n",
       "    </tr>\n",
       "    <tr>\n",
       "      <th>6</th>\n",
       "      <td>2014</td>\n",
       "      <td>ACURA</td>\n",
       "      <td>TL</td>\n",
       "      <td>MID-SIZE</td>\n",
       "      <td>3.5</td>\n",
       "      <td>6</td>\n",
       "      <td>AS6</td>\n",
       "      <td>Z</td>\n",
       "      <td>11.8</td>\n",
       "      <td>8.1</td>\n",
       "      <td>10.1</td>\n",
       "      <td>28</td>\n",
       "      <td>232</td>\n",
       "    </tr>\n",
       "    <tr>\n",
       "      <th>7</th>\n",
       "      <td>2014</td>\n",
       "      <td>ACURA</td>\n",
       "      <td>TL AWD</td>\n",
       "      <td>MID-SIZE</td>\n",
       "      <td>3.7</td>\n",
       "      <td>6</td>\n",
       "      <td>AS6</td>\n",
       "      <td>Z</td>\n",
       "      <td>12.8</td>\n",
       "      <td>9.0</td>\n",
       "      <td>11.1</td>\n",
       "      <td>25</td>\n",
       "      <td>255</td>\n",
       "    </tr>\n",
       "    <tr>\n",
       "      <th>8</th>\n",
       "      <td>2014</td>\n",
       "      <td>ACURA</td>\n",
       "      <td>TL AWD</td>\n",
       "      <td>MID-SIZE</td>\n",
       "      <td>3.7</td>\n",
       "      <td>6</td>\n",
       "      <td>M6</td>\n",
       "      <td>Z</td>\n",
       "      <td>13.4</td>\n",
       "      <td>9.5</td>\n",
       "      <td>11.6</td>\n",
       "      <td>24</td>\n",
       "      <td>267</td>\n",
       "    </tr>\n",
       "    <tr>\n",
       "      <th>9</th>\n",
       "      <td>2014</td>\n",
       "      <td>ACURA</td>\n",
       "      <td>TSX</td>\n",
       "      <td>COMPACT</td>\n",
       "      <td>2.4</td>\n",
       "      <td>4</td>\n",
       "      <td>AS5</td>\n",
       "      <td>Z</td>\n",
       "      <td>10.6</td>\n",
       "      <td>7.5</td>\n",
       "      <td>9.2</td>\n",
       "      <td>31</td>\n",
       "      <td>212</td>\n",
       "    </tr>\n",
       "  </tbody>\n",
       "</table>\n",
       "</div>"
      ],
      "text/plain": [
       "   MODELYEAR   MAKE       MODEL VEHICLECLASS  ENGINESIZE  CYLINDERS  \\\n",
       "0       2014  ACURA         ILX      COMPACT         2.0          4   \n",
       "1       2014  ACURA         ILX      COMPACT         2.4          4   \n",
       "2       2014  ACURA  ILX HYBRID      COMPACT         1.5          4   \n",
       "3       2014  ACURA     MDX 4WD  SUV - SMALL         3.5          6   \n",
       "4       2014  ACURA     RDX AWD  SUV - SMALL         3.5          6   \n",
       "5       2014  ACURA         RLX     MID-SIZE         3.5          6   \n",
       "6       2014  ACURA          TL     MID-SIZE         3.5          6   \n",
       "7       2014  ACURA      TL AWD     MID-SIZE         3.7          6   \n",
       "8       2014  ACURA      TL AWD     MID-SIZE         3.7          6   \n",
       "9       2014  ACURA         TSX      COMPACT         2.4          4   \n",
       "\n",
       "  TRANSMISSION FUELTYPE  FUELCONSUMPTION_CITY  FUELCONSUMPTION_HWY  \\\n",
       "0          AS5        Z                   9.9                  6.7   \n",
       "1           M6        Z                  11.2                  7.7   \n",
       "2          AV7        Z                   6.0                  5.8   \n",
       "3          AS6        Z                  12.7                  9.1   \n",
       "4          AS6        Z                  12.1                  8.7   \n",
       "5          AS6        Z                  11.9                  7.7   \n",
       "6          AS6        Z                  11.8                  8.1   \n",
       "7          AS6        Z                  12.8                  9.0   \n",
       "8           M6        Z                  13.4                  9.5   \n",
       "9          AS5        Z                  10.6                  7.5   \n",
       "\n",
       "   FUELCONSUMPTION_COMB  FUELCONSUMPTION_COMB_MPG  CO2EMISSIONS  \n",
       "0                   8.5                        33           196  \n",
       "1                   9.6                        29           221  \n",
       "2                   5.9                        48           136  \n",
       "3                  11.1                        25           255  \n",
       "4                  10.6                        27           244  \n",
       "5                  10.0                        28           230  \n",
       "6                  10.1                        28           232  \n",
       "7                  11.1                        25           255  \n",
       "8                  11.6                        24           267  \n",
       "9                   9.2                        31           212  "
      ]
     },
     "execution_count": 3,
     "metadata": {},
     "output_type": "execute_result"
    }
   ],
   "source": [
    "#Panggil file (load file bernama FuelConsumptionCo2.csv) dan simpan dalam dataframe Lalu tampilkan 10 baris awal dataset dengan function head()\n",
    "data ='FuelConsumptionCo2.csv'\n",
    "dataset = pd.read_csv(data)\n",
    "dataset.head(10)"
   ]
  },
  {
   "cell_type": "markdown",
   "id": "d2d4a3cb-30ea-4812-9544-5026053cb75d",
   "metadata": {
    "id": "d2d4a3cb-30ea-4812-9544-5026053cb75d"
   },
   "source": [
    "### Review Dataset"
   ]
  },
  {
   "cell_type": "code",
   "execution_count": 4,
   "id": "ad4606c0-c74e-4a16-b9ec-5021ef9686c0",
   "metadata": {
    "id": "ad4606c0-c74e-4a16-b9ec-5021ef9686c0",
    "outputId": "c1f4518b-381b-49d9-bdea-02fe4cd24d78",
    "papermill": {
     "duration": 0.031025,
     "end_time": "2020-12-18T08:30:29.933112",
     "exception": false,
     "start_time": "2020-12-18T08:30:29.902087",
     "status": "completed"
    },
    "tags": []
   },
   "outputs": [
    {
     "data": {
      "text/plain": [
       "(1067, 13)"
      ]
     },
     "execution_count": 4,
     "metadata": {},
     "output_type": "execute_result"
    }
   ],
   "source": [
    "# melihat jumlah baris dan jumlah kolom (bentuk data) pada data df dengan fungsi .shape \n",
    "dataset.shape"
   ]
  },
  {
   "cell_type": "markdown",
   "id": "93e6ee72-c989-43f3-8e26-15efd1f4b56b",
   "metadata": {
    "id": "93e6ee72-c989-43f3-8e26-15efd1f4b56b",
    "papermill": {
     "duration": 0.022228,
     "end_time": "2020-12-18T08:30:29.977924",
     "exception": false,
     "start_time": "2020-12-18T08:30:29.955696",
     "status": "completed"
    },
    "tags": []
   },
   "source": [
    "Data kita mempunyai 13 kolom dengan 1067 baris."
   ]
  },
  {
   "cell_type": "code",
   "execution_count": 5,
   "id": "331e1964-4584-4d79-a23b-542eaa6db9fb",
   "metadata": {
    "id": "331e1964-4584-4d79-a23b-542eaa6db9fb",
    "outputId": "3c5c2cea-22fb-4899-b3d8-e5e454d744c8",
    "papermill": {
     "duration": 0.041497,
     "end_time": "2020-12-18T08:30:30.042309",
     "exception": false,
     "start_time": "2020-12-18T08:30:30.000812",
     "status": "completed"
    },
    "tags": []
   },
   "outputs": [
    {
     "name": "stdout",
     "output_type": "stream",
     "text": [
      "<class 'pandas.core.frame.DataFrame'>\n",
      "RangeIndex: 1067 entries, 0 to 1066\n",
      "Data columns (total 13 columns):\n",
      " #   Column                    Non-Null Count  Dtype  \n",
      "---  ------                    --------------  -----  \n",
      " 0   MODELYEAR                 1067 non-null   int64  \n",
      " 1   MAKE                      1067 non-null   object \n",
      " 2   MODEL                     1067 non-null   object \n",
      " 3   VEHICLECLASS              1067 non-null   object \n",
      " 4   ENGINESIZE                1067 non-null   float64\n",
      " 5   CYLINDERS                 1067 non-null   int64  \n",
      " 6   TRANSMISSION              1067 non-null   object \n",
      " 7   FUELTYPE                  1067 non-null   object \n",
      " 8   FUELCONSUMPTION_CITY      1067 non-null   float64\n",
      " 9   FUELCONSUMPTION_HWY       1067 non-null   float64\n",
      " 10  FUELCONSUMPTION_COMB      1067 non-null   float64\n",
      " 11  FUELCONSUMPTION_COMB_MPG  1067 non-null   int64  \n",
      " 12  CO2EMISSIONS              1067 non-null   int64  \n",
      "dtypes: float64(4), int64(4), object(5)\n",
      "memory usage: 108.5+ KB\n"
     ]
    }
   ],
   "source": [
    "# Melihat Informasi lebih detail mengenai struktur DataFrame dapat dilihat menggunakan fungsi info()\n",
    "dataset.info()"
   ]
  },
  {
   "cell_type": "code",
   "execution_count": 6,
   "id": "3379e6c4-121a-46e2-a101-5f614129243d",
   "metadata": {
    "id": "3379e6c4-121a-46e2-a101-5f614129243d",
    "outputId": "97cce296-ece6-4923-a6a2-7ba0211b1513",
    "papermill": {
     "duration": 0.08099,
     "end_time": "2020-12-18T08:30:30.146287",
     "exception": false,
     "start_time": "2020-12-18T08:30:30.065297",
     "status": "completed"
    },
    "tags": []
   },
   "outputs": [
    {
     "data": {
      "text/html": [
       "<div>\n",
       "<style scoped>\n",
       "    .dataframe tbody tr th:only-of-type {\n",
       "        vertical-align: middle;\n",
       "    }\n",
       "\n",
       "    .dataframe tbody tr th {\n",
       "        vertical-align: top;\n",
       "    }\n",
       "\n",
       "    .dataframe thead th {\n",
       "        text-align: right;\n",
       "    }\n",
       "</style>\n",
       "<table border=\"1\" class=\"dataframe\">\n",
       "  <thead>\n",
       "    <tr style=\"text-align: right;\">\n",
       "      <th></th>\n",
       "      <th>MODELYEAR</th>\n",
       "      <th>ENGINESIZE</th>\n",
       "      <th>CYLINDERS</th>\n",
       "      <th>FUELCONSUMPTION_CITY</th>\n",
       "      <th>FUELCONSUMPTION_HWY</th>\n",
       "      <th>FUELCONSUMPTION_COMB</th>\n",
       "      <th>FUELCONSUMPTION_COMB_MPG</th>\n",
       "      <th>CO2EMISSIONS</th>\n",
       "    </tr>\n",
       "  </thead>\n",
       "  <tbody>\n",
       "    <tr>\n",
       "      <th>count</th>\n",
       "      <td>1067.0</td>\n",
       "      <td>1067.000000</td>\n",
       "      <td>1067.000000</td>\n",
       "      <td>1067.000000</td>\n",
       "      <td>1067.000000</td>\n",
       "      <td>1067.000000</td>\n",
       "      <td>1067.000000</td>\n",
       "      <td>1067.000000</td>\n",
       "    </tr>\n",
       "    <tr>\n",
       "      <th>mean</th>\n",
       "      <td>2014.0</td>\n",
       "      <td>3.346298</td>\n",
       "      <td>5.794752</td>\n",
       "      <td>13.296532</td>\n",
       "      <td>9.474602</td>\n",
       "      <td>11.580881</td>\n",
       "      <td>26.441425</td>\n",
       "      <td>256.228679</td>\n",
       "    </tr>\n",
       "    <tr>\n",
       "      <th>std</th>\n",
       "      <td>0.0</td>\n",
       "      <td>1.415895</td>\n",
       "      <td>1.797447</td>\n",
       "      <td>4.101253</td>\n",
       "      <td>2.794510</td>\n",
       "      <td>3.485595</td>\n",
       "      <td>7.468702</td>\n",
       "      <td>63.372304</td>\n",
       "    </tr>\n",
       "    <tr>\n",
       "      <th>min</th>\n",
       "      <td>2014.0</td>\n",
       "      <td>1.000000</td>\n",
       "      <td>3.000000</td>\n",
       "      <td>4.600000</td>\n",
       "      <td>4.900000</td>\n",
       "      <td>4.700000</td>\n",
       "      <td>11.000000</td>\n",
       "      <td>108.000000</td>\n",
       "    </tr>\n",
       "    <tr>\n",
       "      <th>25%</th>\n",
       "      <td>2014.0</td>\n",
       "      <td>2.000000</td>\n",
       "      <td>4.000000</td>\n",
       "      <td>10.250000</td>\n",
       "      <td>7.500000</td>\n",
       "      <td>9.000000</td>\n",
       "      <td>21.000000</td>\n",
       "      <td>207.000000</td>\n",
       "    </tr>\n",
       "    <tr>\n",
       "      <th>50%</th>\n",
       "      <td>2014.0</td>\n",
       "      <td>3.400000</td>\n",
       "      <td>6.000000</td>\n",
       "      <td>12.600000</td>\n",
       "      <td>8.800000</td>\n",
       "      <td>10.900000</td>\n",
       "      <td>26.000000</td>\n",
       "      <td>251.000000</td>\n",
       "    </tr>\n",
       "    <tr>\n",
       "      <th>75%</th>\n",
       "      <td>2014.0</td>\n",
       "      <td>4.300000</td>\n",
       "      <td>8.000000</td>\n",
       "      <td>15.550000</td>\n",
       "      <td>10.850000</td>\n",
       "      <td>13.350000</td>\n",
       "      <td>31.000000</td>\n",
       "      <td>294.000000</td>\n",
       "    </tr>\n",
       "    <tr>\n",
       "      <th>max</th>\n",
       "      <td>2014.0</td>\n",
       "      <td>8.400000</td>\n",
       "      <td>12.000000</td>\n",
       "      <td>30.200000</td>\n",
       "      <td>20.500000</td>\n",
       "      <td>25.800000</td>\n",
       "      <td>60.000000</td>\n",
       "      <td>488.000000</td>\n",
       "    </tr>\n",
       "  </tbody>\n",
       "</table>\n",
       "</div>"
      ],
      "text/plain": [
       "       MODELYEAR   ENGINESIZE    CYLINDERS  FUELCONSUMPTION_CITY  \\\n",
       "count     1067.0  1067.000000  1067.000000           1067.000000   \n",
       "mean      2014.0     3.346298     5.794752             13.296532   \n",
       "std          0.0     1.415895     1.797447              4.101253   \n",
       "min       2014.0     1.000000     3.000000              4.600000   \n",
       "25%       2014.0     2.000000     4.000000             10.250000   \n",
       "50%       2014.0     3.400000     6.000000             12.600000   \n",
       "75%       2014.0     4.300000     8.000000             15.550000   \n",
       "max       2014.0     8.400000    12.000000             30.200000   \n",
       "\n",
       "       FUELCONSUMPTION_HWY  FUELCONSUMPTION_COMB  FUELCONSUMPTION_COMB_MPG  \\\n",
       "count          1067.000000           1067.000000               1067.000000   \n",
       "mean              9.474602             11.580881                 26.441425   \n",
       "std               2.794510              3.485595                  7.468702   \n",
       "min               4.900000              4.700000                 11.000000   \n",
       "25%               7.500000              9.000000                 21.000000   \n",
       "50%               8.800000             10.900000                 26.000000   \n",
       "75%              10.850000             13.350000                 31.000000   \n",
       "max              20.500000             25.800000                 60.000000   \n",
       "\n",
       "       CO2EMISSIONS  \n",
       "count   1067.000000  \n",
       "mean     256.228679  \n",
       "std       63.372304  \n",
       "min      108.000000  \n",
       "25%      207.000000  \n",
       "50%      251.000000  \n",
       "75%      294.000000  \n",
       "max      488.000000  "
      ]
     },
     "execution_count": 6,
     "metadata": {},
     "output_type": "execute_result"
    }
   ],
   "source": [
    "# melihat statistik data untuk data numeric seperti count, mean, standard deviation, maximum, mininum, dan quartile.\n",
    "dataset.describe()"
   ]
  },
  {
   "cell_type": "code",
   "execution_count": 7,
   "id": "c2412638-ac61-42c7-9bb5-10ad437e17c4",
   "metadata": {
    "id": "c2412638-ac61-42c7-9bb5-10ad437e17c4",
    "outputId": "fc737c7c-e3a4-4795-db79-51a7541f4b24",
    "papermill": {
     "duration": 0.034571,
     "end_time": "2020-12-18T08:30:30.204711",
     "exception": false,
     "start_time": "2020-12-18T08:30:30.170140",
     "status": "completed"
    },
    "tags": []
   },
   "outputs": [
    {
     "data": {
      "text/plain": [
       "MODELYEAR                   0\n",
       "MAKE                        0\n",
       "MODEL                       0\n",
       "VEHICLECLASS                0\n",
       "ENGINESIZE                  0\n",
       "CYLINDERS                   0\n",
       "TRANSMISSION                0\n",
       "FUELTYPE                    0\n",
       "FUELCONSUMPTION_CITY        0\n",
       "FUELCONSUMPTION_HWY         0\n",
       "FUELCONSUMPTION_COMB        0\n",
       "FUELCONSUMPTION_COMB_MPG    0\n",
       "CO2EMISSIONS                0\n",
       "dtype: int64"
      ]
     },
     "execution_count": 7,
     "metadata": {},
     "output_type": "execute_result"
    }
   ],
   "source": [
    "# cek nilai yang hilang / missing values di dalam data\n",
    "dataset.isnull().sum()"
   ]
  },
  {
   "cell_type": "markdown",
   "id": "d95b0cc0-2da4-46ac-aed2-f9ca75d12c88",
   "metadata": {
    "id": "d95b0cc0-2da4-46ac-aed2-f9ca75d12c88",
    "papermill": {
     "duration": 0.023557,
     "end_time": "2020-12-18T08:30:30.252343",
     "exception": false,
     "start_time": "2020-12-18T08:30:30.228786",
     "status": "completed"
    },
    "tags": []
   },
   "source": [
    "Ternyata data kita tidak ada missing values."
   ]
  },
  {
   "cell_type": "markdown",
   "id": "7c032fe5-d819-48bb-8896-a69ac9d25d9f",
   "metadata": {
    "id": "7c032fe5-d819-48bb-8896-a69ac9d25d9f",
    "papermill": {
     "duration": 0.023488,
     "end_time": "2020-12-18T08:30:30.299775",
     "exception": false,
     "start_time": "2020-12-18T08:30:30.276287",
     "status": "completed"
    },
    "tags": []
   },
   "source": [
    "Simple linear regression atau regresi linear sederhana merupakan jenis regresi yang paling sederhana karena hanya melibatkan satu variabel bebas atau variabel independen X."
   ]
  },
  {
   "cell_type": "markdown",
   "id": "15aebf91-d8c9-4efd-ba38-79eef31256b6",
   "metadata": {
    "id": "15aebf91-d8c9-4efd-ba38-79eef31256b6",
    "papermill": {
     "duration": 0.023488,
     "end_time": "2020-12-18T08:30:30.346976",
     "exception": false,
     "start_time": "2020-12-18T08:30:30.323488",
     "status": "completed"
    },
    "tags": []
   },
   "source": [
    "# Visualisasi data untuk pemilihan fitur / variabel independen X\n",
    "---\n",
    "1. Variabel y atau variabel dependent adalah 'CO2EMISSIONS'\n",
    "2. Lakukan Visualisasi dalam penerapannya agar dapat terlihat jelas / mempermudah dalam membaca data tsb\n",
    "3. Untuk dapat menentukan variabel X yaitu dapat melihat korelasi antar variabel dengan variabel y / kolom 'CO2EMISSIONS'"
   ]
  },
  {
   "cell_type": "markdown",
   "id": "ee10fee1-5b73-42e4-ad20-97503e78ed98",
   "metadata": {
    "id": "ee10fee1-5b73-42e4-ad20-97503e78ed98"
   },
   "source": [
    "### untuk dapat menentukan lebih detail / akurat dalam pemilihan fitur dapat dilihat dari hubungan korelasi nya dengan function corr() "
   ]
  },
  {
   "cell_type": "markdown",
   "id": "2eac37fa",
   "metadata": {
    "id": "2eac37fa"
   },
   "source": [
    "# Latihan(1)\n",
    "Tampilkan korelasi antar fitur pada dataset! seperti tampak pada output"
   ]
  },
  {
   "cell_type": "code",
   "execution_count": 10,
   "id": "71e767cd-b8f4-492d-9e06-bcec823b556b",
   "metadata": {
    "id": "71e767cd-b8f4-492d-9e06-bcec823b556b",
    "outputId": "755e96eb-70ac-4ff8-fa8f-08fa125a17eb",
    "papermill": {
     "duration": 0.060766,
     "end_time": "2020-12-18T08:30:32.360702",
     "exception": false,
     "start_time": "2020-12-18T08:30:32.299936",
     "status": "completed"
    },
    "tags": []
   },
   "outputs": [
    {
     "data": {
      "text/html": [
       "<div>\n",
       "<style scoped>\n",
       "    .dataframe tbody tr th:only-of-type {\n",
       "        vertical-align: middle;\n",
       "    }\n",
       "\n",
       "    .dataframe tbody tr th {\n",
       "        vertical-align: top;\n",
       "    }\n",
       "\n",
       "    .dataframe thead th {\n",
       "        text-align: right;\n",
       "    }\n",
       "</style>\n",
       "<table border=\"1\" class=\"dataframe\">\n",
       "  <thead>\n",
       "    <tr style=\"text-align: right;\">\n",
       "      <th></th>\n",
       "      <th>MODELYEAR</th>\n",
       "      <th>ENGINESIZE</th>\n",
       "      <th>CYLINDERS</th>\n",
       "      <th>FUELCONSUMPTION_CITY</th>\n",
       "      <th>FUELCONSUMPTION_HWY</th>\n",
       "      <th>FUELCONSUMPTION_COMB</th>\n",
       "      <th>FUELCONSUMPTION_COMB_MPG</th>\n",
       "      <th>CO2EMISSIONS</th>\n",
       "    </tr>\n",
       "  </thead>\n",
       "  <tbody>\n",
       "    <tr>\n",
       "      <th>MODELYEAR</th>\n",
       "      <td>NaN</td>\n",
       "      <td>NaN</td>\n",
       "      <td>NaN</td>\n",
       "      <td>NaN</td>\n",
       "      <td>NaN</td>\n",
       "      <td>NaN</td>\n",
       "      <td>NaN</td>\n",
       "      <td>NaN</td>\n",
       "    </tr>\n",
       "    <tr>\n",
       "      <th>ENGINESIZE</th>\n",
       "      <td>NaN</td>\n",
       "      <td>1.000000</td>\n",
       "      <td>0.934011</td>\n",
       "      <td>0.832225</td>\n",
       "      <td>0.778746</td>\n",
       "      <td>0.819482</td>\n",
       "      <td>-0.808554</td>\n",
       "      <td>0.874154</td>\n",
       "    </tr>\n",
       "    <tr>\n",
       "      <th>CYLINDERS</th>\n",
       "      <td>NaN</td>\n",
       "      <td>0.934011</td>\n",
       "      <td>1.000000</td>\n",
       "      <td>0.796473</td>\n",
       "      <td>0.724594</td>\n",
       "      <td>0.776788</td>\n",
       "      <td>-0.770430</td>\n",
       "      <td>0.849685</td>\n",
       "    </tr>\n",
       "    <tr>\n",
       "      <th>FUELCONSUMPTION_CITY</th>\n",
       "      <td>NaN</td>\n",
       "      <td>0.832225</td>\n",
       "      <td>0.796473</td>\n",
       "      <td>1.000000</td>\n",
       "      <td>0.965718</td>\n",
       "      <td>0.995542</td>\n",
       "      <td>-0.935613</td>\n",
       "      <td>0.898039</td>\n",
       "    </tr>\n",
       "    <tr>\n",
       "      <th>FUELCONSUMPTION_HWY</th>\n",
       "      <td>NaN</td>\n",
       "      <td>0.778746</td>\n",
       "      <td>0.724594</td>\n",
       "      <td>0.965718</td>\n",
       "      <td>1.000000</td>\n",
       "      <td>0.985804</td>\n",
       "      <td>-0.893809</td>\n",
       "      <td>0.861748</td>\n",
       "    </tr>\n",
       "    <tr>\n",
       "      <th>FUELCONSUMPTION_COMB</th>\n",
       "      <td>NaN</td>\n",
       "      <td>0.819482</td>\n",
       "      <td>0.776788</td>\n",
       "      <td>0.995542</td>\n",
       "      <td>0.985804</td>\n",
       "      <td>1.000000</td>\n",
       "      <td>-0.927965</td>\n",
       "      <td>0.892129</td>\n",
       "    </tr>\n",
       "    <tr>\n",
       "      <th>FUELCONSUMPTION_COMB_MPG</th>\n",
       "      <td>NaN</td>\n",
       "      <td>-0.808554</td>\n",
       "      <td>-0.770430</td>\n",
       "      <td>-0.935613</td>\n",
       "      <td>-0.893809</td>\n",
       "      <td>-0.927965</td>\n",
       "      <td>1.000000</td>\n",
       "      <td>-0.906394</td>\n",
       "    </tr>\n",
       "    <tr>\n",
       "      <th>CO2EMISSIONS</th>\n",
       "      <td>NaN</td>\n",
       "      <td>0.874154</td>\n",
       "      <td>0.849685</td>\n",
       "      <td>0.898039</td>\n",
       "      <td>0.861748</td>\n",
       "      <td>0.892129</td>\n",
       "      <td>-0.906394</td>\n",
       "      <td>1.000000</td>\n",
       "    </tr>\n",
       "  </tbody>\n",
       "</table>\n",
       "</div>"
      ],
      "text/plain": [
       "                          MODELYEAR  ENGINESIZE  CYLINDERS  \\\n",
       "MODELYEAR                       NaN         NaN        NaN   \n",
       "ENGINESIZE                      NaN    1.000000   0.934011   \n",
       "CYLINDERS                       NaN    0.934011   1.000000   \n",
       "FUELCONSUMPTION_CITY            NaN    0.832225   0.796473   \n",
       "FUELCONSUMPTION_HWY             NaN    0.778746   0.724594   \n",
       "FUELCONSUMPTION_COMB            NaN    0.819482   0.776788   \n",
       "FUELCONSUMPTION_COMB_MPG        NaN   -0.808554  -0.770430   \n",
       "CO2EMISSIONS                    NaN    0.874154   0.849685   \n",
       "\n",
       "                          FUELCONSUMPTION_CITY  FUELCONSUMPTION_HWY  \\\n",
       "MODELYEAR                                  NaN                  NaN   \n",
       "ENGINESIZE                            0.832225             0.778746   \n",
       "CYLINDERS                             0.796473             0.724594   \n",
       "FUELCONSUMPTION_CITY                  1.000000             0.965718   \n",
       "FUELCONSUMPTION_HWY                   0.965718             1.000000   \n",
       "FUELCONSUMPTION_COMB                  0.995542             0.985804   \n",
       "FUELCONSUMPTION_COMB_MPG             -0.935613            -0.893809   \n",
       "CO2EMISSIONS                          0.898039             0.861748   \n",
       "\n",
       "                          FUELCONSUMPTION_COMB  FUELCONSUMPTION_COMB_MPG  \\\n",
       "MODELYEAR                                  NaN                       NaN   \n",
       "ENGINESIZE                            0.819482                 -0.808554   \n",
       "CYLINDERS                             0.776788                 -0.770430   \n",
       "FUELCONSUMPTION_CITY                  0.995542                 -0.935613   \n",
       "FUELCONSUMPTION_HWY                   0.985804                 -0.893809   \n",
       "FUELCONSUMPTION_COMB                  1.000000                 -0.927965   \n",
       "FUELCONSUMPTION_COMB_MPG             -0.927965                  1.000000   \n",
       "CO2EMISSIONS                          0.892129                 -0.906394   \n",
       "\n",
       "                          CO2EMISSIONS  \n",
       "MODELYEAR                          NaN  \n",
       "ENGINESIZE                    0.874154  \n",
       "CYLINDERS                     0.849685  \n",
       "FUELCONSUMPTION_CITY          0.898039  \n",
       "FUELCONSUMPTION_HWY           0.861748  \n",
       "FUELCONSUMPTION_COMB          0.892129  \n",
       "FUELCONSUMPTION_COMB_MPG     -0.906394  \n",
       "CO2EMISSIONS                  1.000000  "
      ]
     },
     "execution_count": 10,
     "metadata": {},
     "output_type": "execute_result"
    }
   ],
   "source": [
    "dataset.corr()"
   ]
  },
  {
   "cell_type": "markdown",
   "id": "48eea9b1-a6f5-4e00-962c-3354154daab4",
   "metadata": {
    "id": "48eea9b1-a6f5-4e00-962c-3354154daab4"
   },
   "source": [
    "tampaknya ENGINESIZE, CYLINDERS, FUELCONSUMPTION_CITY, FUELCONSUMPTION_HWY, FUELCONSUMPTION_COMB memiliki korelasi yang signifikan dengan CO2EMISSIONS."
   ]
  },
  {
   "cell_type": "markdown",
   "id": "f31d7fd9",
   "metadata": {
    "id": "f31d7fd9"
   },
   "source": [
    "# Latihan(2)\n",
    "**Buat Visualisasi scater plot dari kolom berikut:**\n",
    "\n",
    ">'ENGINESIZE', 'CYLINDERS', 'FUELCONSUMPTION_CITY','FUELCONSUMPTION_HWY', 'FUELCONSUMPTION_COMB'\n",
    "\n",
    "terhadap kolom CO2EMISSIONS, lengkapilah kode dibawah agar sesuai tampak pada output!"
   ]
  },
  {
   "cell_type": "code",
   "execution_count": 12,
   "id": "a64afe5f-0e7f-4bff-b6b8-506610276ea2",
   "metadata": {
    "id": "a64afe5f-0e7f-4bff-b6b8-506610276ea2",
    "outputId": "fae55115-1077-4c1c-c779-c8a0e1761faa",
    "papermill": {
     "duration": 1.546256,
     "end_time": "2020-12-18T08:30:31.917116",
     "exception": false,
     "start_time": "2020-12-18T08:30:30.370860",
     "status": "completed"
    },
    "tags": []
   },
   "outputs": [
    {
     "data": {
      "image/png": "[encoded data removed]",
      "text/plain": [
       "<Figure size 864x288 with 3 Axes>"
      ]
     },
     "metadata": {
      "needs_background": "light"
     },
     "output_type": "display_data"
    },
    {
     "data": {
      "image/png": "[encoded data removed]",
      "text/plain": [
       "<Figure size 864x288 with 3 Axes>"
      ]
     },
     "metadata": {
      "needs_background": "light"
     },
     "output_type": "display_data"
    }
   ],
   "source": [
    "def pp(x,y,z):\n",
    "    sns.pairplot(dataset, x_vars=[x,y,z], y_vars='CO2EMISSIONS',size=4, aspect=1, kind='scatter')\n",
    "    plt.show()\n",
    "\n",
    "pp('ENGINESIZE', 'CYLINDERS', 'FUELCONSUMPTION_CITY')\n",
    "pp('FUELCONSUMPTION_HWY', 'FUELCONSUMPTION_COMB', 'FUELCONSUMPTION_COMB_MPG')"
   ]
  },
  {
   "cell_type": "markdown",
   "id": "336b1683",
   "metadata": {
    "id": "336b1683"
   },
   "source": [
    "# Latihan(3)\n",
    "**Buat Visualisasi Heatmap dari kolom berikut:**\n",
    "\n",
    ">'ENGINESIZE', 'CYLINDERS', 'FUELCONSUMPTION_CITY','FUELCONSUMPTION_HWY', 'FUELCONSUMPTION_COMB'\n",
    "\n",
    "terhadap kolom CO2EMISSIONS, lengkapilah kode dibawah agar sesuai tampak pada output!"
   ]
  },
  {
   "cell_type": "code",
   "execution_count": 14,
   "id": "80561475-2017-4374-9550-18cfab75d230",
   "metadata": {
    "id": "80561475-2017-4374-9550-18cfab75d230",
    "outputId": "f9411fd2-b918-4725-8e9a-457d1ba45441",
    "scrolled": false
   },
   "outputs": [
    {
     "data": {
      "image/png": "[encoded data removed]",
      "text/plain": [
       "<Figure size 576x576 with 2 Axes>"
      ]
     },
     "metadata": {
      "needs_background": "light"
     },
     "output_type": "display_data"
    }
   ],
   "source": [
    "plt.subplots(figsize = (8,8))\n",
    "data_fitur = dataset[['ENGINESIZE', 'CYLINDERS', 'FUELCONSUMPTION_CITY', 'FUELCONSUMPTION_HWY', 'FUELCONSUMPTION_COMB', 'CO2EMISSIONS']]\n",
    "sns.heatmap(data_fitur.corr(),annot=True,fmt=\"f\").set_title(\"Korelasi Heatmap Calon Variabel X\")\n",
    "plt.show()"
   ]
  },
  {
   "cell_type": "code",
   "execution_count": 15,
   "id": "299b4836",
   "metadata": {
    "id": "299b4836",
    "outputId": "0241f704-cbbd-4b1a-8866-a3722072bae6"
   },
   "outputs": [
    {
     "data": {
      "text/plain": [
       "MODELYEAR                        NaN\n",
       "ENGINESIZE                  0.874154\n",
       "CYLINDERS                   0.849685\n",
       "FUELCONSUMPTION_CITY        0.898039\n",
       "FUELCONSUMPTION_HWY         0.861748\n",
       "FUELCONSUMPTION_COMB        0.892129\n",
       "FUELCONSUMPTION_COMB_MPG   -0.906394\n",
       "CO2EMISSIONS                1.000000\n",
       "Name: CO2EMISSIONS, dtype: float64"
      ]
     },
     "execution_count": 15,
     "metadata": {},
     "output_type": "execute_result"
    }
   ],
   "source": [
    "# korelasi antara setiap fitur dan target(CO2EMISSIONS)\n",
    "dataset.corr()['CO2EMISSIONS']"
   ]
  },
  {
   "cell_type": "markdown",
   "id": "13e62659-94ca-40df-bb43-5def62541fe9",
   "metadata": {
    "id": "13e62659-94ca-40df-bb43-5def62541fe9"
   },
   "source": [
    "Dari hasil visualisasi diatas bahwa fitur/kolom FUELCONSUMPTION_CITY memiliki korelasi yang tinggi terhadap kolom CO2EMISSIONS / variabel dependent, namun dalam sebaran data yg ditunjukkan pada scatter plot menunjukkan fitur ENGINESIZE memiliki sebaran data yg padat dan linier berbeda dengan fitur yang lainnya menunjukkan adanya clustering/sebaran data yg terpecah sehingga kita akan mengambil fitur/kolom ENGINESIZE untuk di training.\n",
    "* Independent variabel (x) adalah ENGINESIZE.\n",
    "* Dependent variabel (y) adalah CO2EMISSIONS."
   ]
  },
  {
   "cell_type": "markdown",
   "id": "463bda94-ce74-4831-b8ec-9dc3d4efb5c8",
   "metadata": {
    "id": "463bda94-ce74-4831-b8ec-9dc3d4efb5c8"
   },
   "source": [
    "### Buat Visualisasi Scatter Plot antara calon variabel X(ENGINESIZE) dan y(CO2EMISSIONS):"
   ]
  },
  {
   "cell_type": "code",
   "execution_count": 16,
   "id": "8dc39c87-90d5-401c-9b1a-c8a95793f948",
   "metadata": {
    "id": "8dc39c87-90d5-401c-9b1a-c8a95793f948",
    "outputId": "803c718e-1397-41f8-8527-cae4a003ed81",
    "papermill": {
     "duration": 0.203289,
     "end_time": "2020-12-18T08:30:32.207124",
     "exception": false,
     "start_time": "2020-12-18T08:30:32.003835",
     "status": "completed"
    },
    "tags": []
   },
   "outputs": [
    {
     "data": {
      "image/png": "[encoded data removed]",
      "text/plain": [
       "<Figure size 432x288 with 1 Axes>"
      ]
     },
     "metadata": {
      "needs_background": "light"
     },
     "output_type": "display_data"
    }
   ],
   "source": [
    "plt.scatter(dataset['ENGINESIZE'], dataset['CO2EMISSIONS'])\n",
    "plt.xlabel('ENGINESIZE')\n",
    "plt.ylabel('CO2EMISSIONS')\n",
    "plt.title('Scatter Plot ENGINESIZE vs CO2EMISSIONS')\n",
    "plt.show()"
   ]
  },
  {
   "cell_type": "markdown",
   "id": "ce95fabe-75d5-4b89-9838-d5754e6eac2b",
   "metadata": {
    "id": "ce95fabe-75d5-4b89-9838-d5754e6eac2b",
    "papermill": {
     "duration": 0.029445,
     "end_time": "2020-12-18T08:30:32.270268",
     "exception": false,
     "start_time": "2020-12-18T08:30:32.240823",
     "status": "completed"
    },
    "tags": []
   },
   "source": [
    "Scatter plot menunjukkan dengan jelas hubungan antarvariabel serta sebarannya di dataset. Selain itu, dengan scatter plot juga kita dapat mengindikasikan bahwa variabel ENGINESIZE dan CO2EMISSIONS memiliki hubungan linear."
   ]
  },
  {
   "cell_type": "markdown",
   "id": "5f6178b6-ec13-4a53-9950-cdb1e7b2f94c",
   "metadata": {
    "id": "5f6178b6-ec13-4a53-9950-cdb1e7b2f94c",
    "papermill": {
     "duration": 0.029726,
     "end_time": "2020-12-18T08:30:32.420333",
     "exception": false,
     "start_time": "2020-12-18T08:30:32.390607",
     "status": "completed"
    },
    "tags": []
   },
   "source": [
    "    Catatan : korelasi 0.874154 adalah nilai yang cukup tinggi, artinya nilai CO2EMISSIONS benar-benar sangat dipengaruhi oleh nilai ENGINESIZE, karena korelasi tinggi maka algoritma Regresi Linier ini cocok digunakan untuk data tersebut."
   ]
  },
  {
   "cell_type": "markdown",
   "id": "8e714867-59d7-42c6-8522-37d0d8cd4a79",
   "metadata": {
    "id": "8e714867-59d7-42c6-8522-37d0d8cd4a79"
   },
   "source": [
    "### definisi variabel X(ENGINESIZE) dan y(CO2EMISSIONS):"
   ]
  },
  {
   "cell_type": "code",
   "execution_count": 17,
   "id": "37ffb946-52e9-441b-b312-09d76b4408ac",
   "metadata": {
    "id": "37ffb946-52e9-441b-b312-09d76b4408ac",
    "papermill": {
     "duration": 0.039247,
     "end_time": "2020-12-18T08:30:32.490191",
     "exception": false,
     "start_time": "2020-12-18T08:30:32.450944",
     "status": "completed"
    },
    "tags": []
   },
   "outputs": [],
   "source": [
    "# Prepare data\n",
    "# Pertama, buat variabel x dan y.\n",
    "x = dataset['ENGINESIZE'].values.reshape(-1,1)\n",
    "y = dataset['CO2EMISSIONS'].values.reshape(-1,1)"
   ]
  },
  {
   "cell_type": "markdown",
   "id": "2398bb9e-585c-469a-8579-e29ec79f00ac",
   "metadata": {
    "id": "2398bb9e-585c-469a-8579-e29ec79f00ac",
    "papermill": {
     "duration": 0.029755,
     "end_time": "2020-12-18T08:30:32.549961",
     "exception": false,
     "start_time": "2020-12-18T08:30:32.520206",
     "status": "completed"
    },
    "tags": []
   },
   "source": [
    "Formula Regresi Linear\n",
    "\n",
    "<img src=\"https://drive.google.com/uc?export=view&id=1x1Lwx8unXP-dStY05bae2BG1t2ocs0qN\"  width=\"300\" />\n",
    "\n",
    "<br>\n",
    "\n",
    "\"Jika kita melihat formula regresi linear di atas, kita pasti ingat rumus persamaan garis yang pernah dipelajari di bangku sekolah, yaitu y = mx + c, dimana m merupakan gradien atau kemiringan garis dan c merupakan konstanta.\""
   ]
  },
  {
   "cell_type": "markdown",
   "id": "736b6d84-e320-46ef-81a3-dbb88bc147fa",
   "metadata": {
    "id": "736b6d84-e320-46ef-81a3-dbb88bc147fa",
    "papermill": {
     "duration": 0.029149,
     "end_time": "2020-12-18T08:30:32.609017",
     "exception": false,
     "start_time": "2020-12-18T08:30:32.579868",
     "status": "completed"
    },
    "tags": []
   },
   "source": [
    "* from scratch\n",
    "* y = ax + b atau y = w1x + w0 atau y = mx + c\n",
    "* x = input\n",
    "* y = output\n",
    "* b atau w0 = intercept / bias\n",
    "* a atau w1 = slope / gradient / coefficient"
   ]
  },
  {
   "cell_type": "markdown",
   "id": "e0bc176d-ec2f-4113-b6c8-6affeab85012",
   "metadata": {
    "id": "e0bc176d-ec2f-4113-b6c8-6affeab85012"
   },
   "source": [
    "### definisi variabel nilai mean/rata-rata X(ENGINESIZE) dan nilai mean/rata-rata y(CO2EMISSIONS):"
   ]
  },
  {
   "cell_type": "code",
   "execution_count": 18,
   "id": "abb4cd69-212f-4898-bf57-13b475eee3d0",
   "metadata": {
    "id": "abb4cd69-212f-4898-bf57-13b475eee3d0",
    "outputId": "2b3b878a-f2f7-4414-97c3-d3ea24001dc4",
    "papermill": {
     "duration": 0.039414,
     "end_time": "2020-12-18T08:30:32.678158",
     "exception": false,
     "start_time": "2020-12-18T08:30:32.638744",
     "status": "completed"
    },
    "tags": []
   },
   "outputs": [
    {
     "name": "stdout",
     "output_type": "stream",
     "text": [
      "nilai mean var x:  3.346298031865042 \n",
      "nilai mean var y:  256.2286785379569\n"
     ]
    }
   ],
   "source": [
    "x_mean = np.mean(x)\n",
    "y_mean = np.mean(y)\n",
    "print('nilai mean var x: ', x_mean,'\\n'\n",
    "      'nilai mean var y: ', y_mean)"
   ]
  },
  {
   "cell_type": "markdown",
   "id": "05e17d4e-effa-4891-8a85-4929000b2a0b",
   "metadata": {
    "id": "05e17d4e-effa-4891-8a85-4929000b2a0b"
   },
   "source": [
    "### Cara lain mencari nilai koefisien korelasi secara matematis dengan rumus:"
   ]
  },
  {
   "cell_type": "markdown",
   "id": "c5135ccd-c8fe-480b-ab2e-e310975da902",
   "metadata": {
    "id": "c5135ccd-c8fe-480b-ab2e-e310975da902"
   },
   "source": [
    "<img src=\"https://drive.google.com/uc?export=view&id=1Y1rrNuHw65z0SCdzvMD9M3oG1kn7lu8A\"  width=\"400\" />"
   ]
  },
  {
   "cell_type": "code",
   "execution_count": 19,
   "id": "9f9da7fd-1b27-4a92-8866-eadd96d16805",
   "metadata": {
    "id": "9f9da7fd-1b27-4a92-8866-eadd96d16805",
    "outputId": "e9731564-9944-41c4-ad64-3f4f688d3b87",
    "papermill": {
     "duration": 0.040011,
     "end_time": "2020-12-18T08:30:32.811493",
     "exception": false,
     "start_time": "2020-12-18T08:30:32.771482",
     "status": "completed"
    },
    "scrolled": true,
    "tags": []
   },
   "outputs": [
    {
     "name": "stdout",
     "output_type": "stream",
     "text": [
      "Nilai Correlation Coefficient:  [0.87415437]\n"
     ]
    }
   ],
   "source": [
    "atas = sum((x - x_mean)*(y - y_mean))\n",
    "bawah = math.sqrt((sum((x - x_mean)**2)) * (sum((y - y_mean)**2)))\n",
    "correlation = atas/bawah\n",
    "print('Nilai Correlation Coefficient: ', correlation)"
   ]
  },
  {
   "cell_type": "markdown",
   "id": "56cbad18-9202-4a08-bd23-d481f5acf8f6",
   "metadata": {
    "id": "56cbad18-9202-4a08-bd23-d481f5acf8f6"
   },
   "source": [
    "\n",
    "### carilah nilai parameter theta 1 dan theta 0 dengan rumus dibawah:"
   ]
  },
  {
   "cell_type": "markdown",
   "id": "3066ffac-9bf4-4c74-9db2-2d1a26fab87a",
   "metadata": {
    "id": "3066ffac-9bf4-4c74-9db2-2d1a26fab87a"
   },
   "source": [
    "<img src=\"https://drive.google.com/uc?export=view&id=18c6xG6uKUsZ8GfGzF1LfotYwPLTeSF6x\"  width=\"400\" />"
   ]
  },
  {
   "cell_type": "markdown",
   "id": "792ea4ac-77c7-4df8-8413-5e39a3c68135",
   "metadata": {
    "id": "792ea4ac-77c7-4df8-8413-5e39a3c68135"
   },
   "source": [
    "### carilah nilai theta_1 atau nilai slope"
   ]
  },
  {
   "cell_type": "code",
   "execution_count": 20,
   "id": "a427150c-6812-4f37-a8c9-5a090986d864",
   "metadata": {
    "id": "a427150c-6812-4f37-a8c9-5a090986d864",
    "outputId": "442a8c26-9f50-4411-afe3-ba0333f35540",
    "papermill": {
     "duration": 0.044938,
     "end_time": "2020-12-18T08:30:33.010565",
     "exception": false,
     "start_time": "2020-12-18T08:30:32.965627",
     "status": "completed"
    },
    "tags": []
   },
   "outputs": [
    {
     "name": "stdout",
     "output_type": "stream",
     "text": [
      "Nilai theta_1:  [39.12519979]\n"
     ]
    }
   ],
   "source": [
    "# slope\n",
    "# Slope adalah tingkat kemiringan garis, intercept \n",
    "# adalah jarak titik y pada garis dari titik 0\n",
    "variance = sum((x - x_mean)**2)\n",
    "covariance = sum((x - x_mean) * (y - y_mean))\n",
    "theta_1 = covariance/variance\n",
    "print('Nilai theta_1: ',theta_1)"
   ]
  },
  {
   "cell_type": "markdown",
   "id": "67c9ab12-41cb-4c7a-b0b7-75f153eecec8",
   "metadata": {
    "id": "67c9ab12-41cb-4c7a-b0b7-75f153eecec8"
   },
   "source": [
    "### carilah nilai theta_0 atau nilai intercept "
   ]
  },
  {
   "cell_type": "code",
   "execution_count": 21,
   "id": "1e3bae8c-872f-4dff-baa7-de01a7f2ffcd",
   "metadata": {
    "id": "1e3bae8c-872f-4dff-baa7-de01a7f2ffcd",
    "outputId": "f8e647c4-5e15-4c87-88d9-090f97b74f88",
    "papermill": {
     "duration": 0.040263,
     "end_time": "2020-12-18T08:30:33.082718",
     "exception": false,
     "start_time": "2020-12-18T08:30:33.042455",
     "status": "completed"
    },
    "tags": []
   },
   "outputs": [
    {
     "name": "stdout",
     "output_type": "stream",
     "text": [
      "Nilai theta_1:  [125.3040995]\n"
     ]
    }
   ],
   "source": [
    "# intercept\n",
    "theta_0 = y_mean - (theta_1 * x_mean)\n",
    "print('Nilai theta_1: ',theta_0)"
   ]
  },
  {
   "cell_type": "markdown",
   "id": "3edeae60-79e9-4320-a32b-8ac2ab66748d",
   "metadata": {
    "id": "3edeae60-79e9-4320-a32b-8ac2ab66748d",
    "papermill": {
     "duration": 0.031581,
     "end_time": "2020-12-18T08:30:33.145931",
     "exception": false,
     "start_time": "2020-12-18T08:30:33.114350",
     "status": "completed"
    },
    "tags": []
   },
   "source": [
    "### Maka persamaan garis : \n",
    "\n",
    "#     **y = 39.12519979 + 125.3040995**\n",
    "\n",
    "Jadi persamaan garis diatas dapat digunakan untuk melakukan prediksi apabila kita memiliki data ENGINESIZE yang baru, CO2EMISSIONS dapat diperkirakan dengan rumus tersebut, masukkan nilai ENGINESIZE baru ke x, maka perkiraan nilai y (CO2EMISSIONS) akan didapat."
   ]
  },
  {
   "cell_type": "markdown",
   "id": "ad02af73-77b1-4bf9-bb03-da094b2aa352",
   "metadata": {
    "id": "ad02af73-77b1-4bf9-bb03-da094b2aa352"
   },
   "source": [
    "### carilah nilai prediksi secara manual dan buatlah visualisasi scater plot nya"
   ]
  },
  {
   "cell_type": "code",
   "execution_count": 22,
   "id": "485f26fc-d41e-40fa-8240-1b55a85b19ef",
   "metadata": {
    "id": "485f26fc-d41e-40fa-8240-1b55a85b19ef",
    "outputId": "fe182ea3-4e07-43c7-e2c2-78fe65ce8b18",
    "papermill": {
     "duration": 0.040288,
     "end_time": "2020-12-18T08:30:33.217550",
     "exception": false,
     "start_time": "2020-12-18T08:30:33.177262",
     "status": "completed"
    },
    "tags": []
   },
   "outputs": [
    {
     "name": "stdout",
     "output_type": "stream",
     "text": [
      "[5211.58007177]\n"
     ]
    }
   ],
   "source": [
    "# prediction manual\n",
    "y_pred = theta_0 + (theta_1 * 130)\n",
    "\n",
    "print(y_pred)"
   ]
  },
  {
   "cell_type": "code",
   "execution_count": 23,
   "id": "5c6eba4b-8ff5-46b7-baa0-0670dd51d01b",
   "metadata": {
    "id": "5c6eba4b-8ff5-46b7-baa0-0670dd51d01b",
    "outputId": "6a5f6388-abe1-4de4-f8a1-bf90f678d327",
    "papermill": {
     "duration": 0.169189,
     "end_time": "2020-12-18T08:30:33.418977",
     "exception": false,
     "start_time": "2020-12-18T08:30:33.249788",
     "status": "completed"
    },
    "tags": []
   },
   "outputs": [
    {
     "data": {
      "text/plain": [
       "Text(0.5, 1.0, 'Plot ENGINESIZE vs CO2EMISSIONS')"
      ]
     },
     "execution_count": 23,
     "metadata": {},
     "output_type": "execute_result"
    },
    {
     "data": {
      "image/png": "[encoded data removed]",
      "text/plain": [
       "<Figure size 432x288 with 1 Axes>"
      ]
     },
     "metadata": {
      "needs_background": "light"
     },
     "output_type": "display_data"
    }
   ],
   "source": [
    "# visualisasi prediksi dengan scatter plot\n",
    "y_pred = theta_0 + (theta_1 * x)\n",
    "\n",
    "plt.scatter(x, y)\n",
    "plt.plot(x, y_pred, c='r')\n",
    "plt.xlabel('ENGINESIZE')\n",
    "plt.ylabel('CO2EMISSIONS')\n",
    "plt.title('Plot ENGINESIZE vs CO2EMISSIONS')"
   ]
  },
  {
   "cell_type": "markdown",
   "id": "27df3826-d0d3-4811-ae74-e47a9480d0b0",
   "metadata": {
    "id": "27df3826-d0d3-4811-ae74-e47a9480d0b0",
    "papermill": {
     "duration": 0.03294,
     "end_time": "2020-12-18T08:30:33.484478",
     "exception": false,
     "start_time": "2020-12-18T08:30:33.451538",
     "status": "completed"
    },
    "tags": []
   },
   "source": [
    "Linier Regression digunakan untuk Prediksi dengan mencari pola garis terbaik antara variable independent dan dependen\n",
    "\n",
    "Pros:\n",
    "\n",
    "    Mudah diimplementasikan\n",
    "    Digunakan untuk memprediksi nilai numerik/ continous /data jenis interval dan ratio\n",
    "\n",
    "Cons :\n",
    "\n",
    "    Cenderung mudah Overfitting\n",
    "    Tidak dapat digunakan bila relasi antara variabel independen dan dependen tidak linier atau korelasi variabel rendah"
   ]
  },
  {
   "cell_type": "markdown",
   "id": "78fe21b5-bed4-49bf-ad3e-4c2def4f470b",
   "metadata": {
    "id": "78fe21b5-bed4-49bf-ad3e-4c2def4f470b",
    "papermill": {
     "duration": 0.032437,
     "end_time": "2020-12-18T08:30:33.550039",
     "exception": false,
     "start_time": "2020-12-18T08:30:33.517602",
     "status": "completed"
    },
    "tags": []
   },
   "source": [
    "# Linier Regression dengan menggunakan library sklearn"
   ]
  },
  {
   "cell_type": "markdown",
   "id": "971a2846-322b-4ba3-9f61-a8455bc27b39",
   "metadata": {
    "id": "971a2846-322b-4ba3-9f61-a8455bc27b39"
   },
   "source": [
    "1. Pertama yang kita lakukan adalah split data, Train/test split adalah salah satu metode yang dapat digunakan untuk mengevaluasi performa model machine learning. Metode evaluasi model ini membagi dataset menjadi dua bagian yakni bagian yang digunakan untuk training data dan untuk testing data dengan proporsi tertentu. Train data digunakan untuk fit model machine learning, sedangkan test data digunakan untuk mengevaluasi hasil fit model tersebut.\n",
    "\n",
    "<center>\n",
    "    <img src=\"https://drive.google.com/uc?export=view&id=1B79hNEjnYpgwCXKLVO5AhX8jy-hpagvc\"  width=\"400\" />\n",
    "</center>\n",
    "\n",
    "\n",
    "Python memiliki library yang dapat mengimplementasikan train/test split dengan mudah yaitu Scikit-Learn. Untuk menggunakannya, kita perlu mengimport Scikit-Learn terlebih dahulu, kemudian setelah itu kita dapat menggunakan fungsi train_test_split()."
   ]
  },
  {
   "cell_type": "markdown",
   "id": "0aedaf66-e7cf-46c8-804d-aa086f375aec",
   "metadata": {
    "id": "0aedaf66-e7cf-46c8-804d-aa086f375aec"
   },
   "source": [
    "### split data train dan test dengan function  train_test_split() dengan train_size=0.8, test_size=0.2 dan random_state=100"
   ]
  },
  {
   "cell_type": "markdown",
   "id": "35ee041d",
   "metadata": {
    "id": "35ee041d"
   },
   "source": [
    "# Latihan(4)\n",
    "lengkapilah kode dibawah yaitu pada porsi train dan test size sesuai dengan instruksi diatas yaitu 80% untuk training data dan 20% untuk test size!"
   ]
  },
  {
   "cell_type": "code",
   "execution_count": 26,
   "id": "58492f4e-1a15-401f-b425-aa8f9e290446",
   "metadata": {
    "id": "58492f4e-1a15-401f-b425-aa8f9e290446",
    "papermill": {
     "duration": 0.041493,
     "end_time": "2020-12-18T08:30:33.624262",
     "exception": false,
     "start_time": "2020-12-18T08:30:33.582769",
     "status": "completed"
    },
    "tags": []
   },
   "outputs": [],
   "source": [
    "x_train, x_test, y_train, y_test = train_test_split(x, y, train_size =0.8 , test_size =0.2 , random_state = 100)"
   ]
  },
  {
   "cell_type": "markdown",
   "id": "841cb3da-106f-461d-bad5-26a65215c343",
   "metadata": {
    "id": "841cb3da-106f-461d-bad5-26a65215c343"
   },
   "source": [
    "* X_train: Untuk menampung data source yang akan dilatih.\n",
    "* X_test: Untuk menampung data target yang akan dilatih.\n",
    "* y_train: Untuk menampung data source yang akan digunakan untuk testing.\n",
    "* y_test: Untuk menampung data target yang akan digunakan untuk testing.\n",
    "\n",
    "X dan y adalah nama variabel yang digunakan saat mendefinisikan data source dan data target. Parameter *test_size* digunakan untuk mendefinisikan ukuran data testing. Dalam contoh di atas, test_size=0.2 berarti data yang digunakan sebagai data testing adalah sebesar 20% dari keseluruhan dataset.\n",
    "\n",
    "Perlu diketahui bahwa metode ini akan membagi train set dan test set secara random atau acak. Jadi, jika kita mengulang proses running, maka tentunya hasil yang didapat akan berubah-ubah. Untuk mengatasinya, kita dapat menggunakan parameter *random_state*"
   ]
  },
  {
   "cell_type": "markdown",
   "id": "1b9b3471-67e4-460c-8864-2ef64b1c4141",
   "metadata": {
    "id": "1b9b3471-67e4-460c-8864-2ef64b1c4141"
   },
   "source": [
    "### buat object variabel linier regression"
   ]
  },
  {
   "cell_type": "code",
   "execution_count": 27,
   "id": "0d4751c0-0641-484f-9ff8-3f10d907b1de",
   "metadata": {
    "id": "0d4751c0-0641-484f-9ff8-3f10d907b1de",
    "papermill": {
     "duration": 0.040318,
     "end_time": "2020-12-18T08:30:33.697587",
     "exception": false,
     "start_time": "2020-12-18T08:30:33.657269",
     "status": "completed"
    },
    "tags": []
   },
   "outputs": [],
   "source": [
    "regressor = LinearRegression()"
   ]
  },
  {
   "cell_type": "markdown",
   "id": "7f80849d-2f12-4b01-b6f1-2a3a2c27939e",
   "metadata": {
    "id": "7f80849d-2f12-4b01-b6f1-2a3a2c27939e"
   },
   "source": [
    "### training the model menggunakan training data yang sudah displit sebelumnya."
   ]
  },
  {
   "cell_type": "code",
   "execution_count": 28,
   "id": "f334370c-d61b-4391-b734-9d0b8cbd4021",
   "metadata": {
    "id": "f334370c-d61b-4391-b734-9d0b8cbd4021",
    "outputId": "6f69ef47-36fb-4e75-eda3-013779c0c002",
    "papermill": {
     "duration": 0.075335,
     "end_time": "2020-12-18T08:30:33.807149",
     "exception": false,
     "start_time": "2020-12-18T08:30:33.731814",
     "status": "completed"
    },
    "tags": []
   },
   "outputs": [
    {
     "data": {
      "text/plain": [
       "LinearRegression()"
      ]
     },
     "execution_count": 28,
     "metadata": {},
     "output_type": "execute_result"
    }
   ],
   "source": [
    "regressor.fit(x_train, y_train)"
   ]
  },
  {
   "cell_type": "markdown",
   "id": "6b977607-55f2-441f-95d0-7cf99effc7e2",
   "metadata": {
    "id": "6b977607-55f2-441f-95d0-7cf99effc7e2"
   },
   "source": [
    "### cari tau nilai slope/koefisien (m) dan intercept (b), dengan menggunakan function dari library sklearn -> LinierRegression"
   ]
  },
  {
   "cell_type": "code",
   "execution_count": 29,
   "id": "9fdba2ce-505f-45f8-ad82-a40870ace6cc",
   "metadata": {
    "id": "9fdba2ce-505f-45f8-ad82-a40870ace6cc",
    "outputId": "dceb6a95-d27f-4aea-a10d-7986cd5e994f",
    "papermill": {
     "duration": 0.043547,
     "end_time": "2020-12-18T08:30:33.884393",
     "exception": false,
     "start_time": "2020-12-18T08:30:33.840846",
     "status": "completed"
    },
    "tags": []
   },
   "outputs": [
    {
     "name": "stdout",
     "output_type": "stream",
     "text": [
      "[[39.36976249]]\n",
      "[124.64169045]\n"
     ]
    }
   ],
   "source": [
    "print(regressor.coef_)\n",
    "print(regressor.intercept_)"
   ]
  },
  {
   "cell_type": "markdown",
   "id": "41bd5713-fcf1-43b5-b1c0-cff0a4989849",
   "metadata": {
    "id": "41bd5713-fcf1-43b5-b1c0-cff0a4989849"
   },
   "source": [
    "Dari nilai m dan b diatas, kalau dimasukan ke dalam rumus persamaan menjadi:\n",
    "#     **y = 39.36976249 + 124.64169045**"
   ]
  },
  {
   "cell_type": "markdown",
   "id": "0db3065b-a635-4baa-a5f0-9c982512965d",
   "metadata": {
    "id": "0db3065b-a635-4baa-a5f0-9c982512965d"
   },
   "source": [
    "### cari tahu accuracy score dari model kita menggunakan testing data yang sudah displit sebelumnya. Dan nilai korelasinya"
   ]
  },
  {
   "cell_type": "code",
   "execution_count": 30,
   "id": "62a7cd61-c73d-4b10-b797-3def3f31e490",
   "metadata": {
    "id": "62a7cd61-c73d-4b10-b797-3def3f31e490",
    "outputId": "7809f24c-07bf-430e-b6b7-9b06531f33dd",
    "papermill": {
     "duration": 0.043548,
     "end_time": "2020-12-18T08:30:33.962361",
     "exception": false,
     "start_time": "2020-12-18T08:30:33.918813",
     "status": "completed"
    },
    "tags": []
   },
   "outputs": [
    {
     "data": {
      "text/plain": [
       "0.7790956690770854"
      ]
     },
     "execution_count": 30,
     "metadata": {},
     "output_type": "execute_result"
    }
   ],
   "source": [
    "regressor.score(x_test, y_test)"
   ]
  },
  {
   "cell_type": "markdown",
   "id": "de51b723-deab-4ad1-aec9-0ec9b9e535ae",
   "metadata": {
    "id": "de51b723-deab-4ad1-aec9-0ec9b9e535ae",
    "papermill": {
     "duration": 0.03398,
     "end_time": "2020-12-18T08:30:34.031323",
     "exception": false,
     "start_time": "2020-12-18T08:30:33.997343",
     "status": "completed"
    },
    "tags": []
   },
   "source": [
    "Model kita mendapatkan accuracy score sebesar 77.9%"
   ]
  },
  {
   "cell_type": "code",
   "execution_count": 31,
   "id": "ab8f249f-5ee9-4a33-b18b-02fd86ce6e47",
   "metadata": {
    "id": "ab8f249f-5ee9-4a33-b18b-02fd86ce6e47",
    "outputId": "1dbebf83-393e-4bf3-92c9-81829db92a4d",
    "papermill": {
     "duration": 0.043526,
     "end_time": "2020-12-18T08:30:34.108834",
     "exception": false,
     "start_time": "2020-12-18T08:30:34.065308",
     "status": "completed"
    },
    "tags": []
   },
   "outputs": [
    {
     "name": "stdout",
     "output_type": "stream",
     "text": [
      "Correlation:  0.8826639615828242\n"
     ]
    }
   ],
   "source": [
    "print('Correlation: ', math.sqrt(regressor.score(x_test,y_test)))"
   ]
  },
  {
   "cell_type": "markdown",
   "id": "7fca7821-fde9-48d2-a1a0-a8d8fa881f94",
   "metadata": {
    "id": "7fca7821-fde9-48d2-a1a0-a8d8fa881f94"
   },
   "source": [
    "### visualisasi Regression Line menggunakan data testing."
   ]
  },
  {
   "cell_type": "code",
   "execution_count": 32,
   "id": "20244170-0eb5-47bc-b2c4-67563c23967b",
   "metadata": {
    "id": "20244170-0eb5-47bc-b2c4-67563c23967b",
    "outputId": "43082ff8-f882-4ce7-aba7-85f2e10e218b",
    "papermill": {
     "duration": 0.188146,
     "end_time": "2020-12-18T08:30:34.331355",
     "exception": false,
     "start_time": "2020-12-18T08:30:34.143209",
     "status": "completed"
    },
    "scrolled": true,
    "tags": []
   },
   "outputs": [
    {
     "data": {
      "text/plain": [
       "Text(0.5, 1.0, 'Plot ENGINESIZE vs CO2EMISSIONS')"
      ]
     },
     "execution_count": 32,
     "metadata": {},
     "output_type": "execute_result"
    },
    {
     "data": {
      "image/png": "[encoded data removed]",
      "text/plain": [
       "<Figure size 432x288 with 1 Axes>"
      ]
     },
     "metadata": {
      "needs_background": "light"
     },
     "output_type": "display_data"
    }
   ],
   "source": [
    "y_prediksi = regressor.predict(x_test)\n",
    "\n",
    "plt.scatter(x_test, y_test)\n",
    "plt.plot(x_test, y_prediksi, c='r')\n",
    "plt.xlabel('ENGINESIZE')\n",
    "plt.ylabel('CO2EMISSIONS')\n",
    "plt.title('Plot ENGINESIZE vs CO2EMISSIONS')"
   ]
  },
  {
   "cell_type": "markdown",
   "id": "f73dceb4-e15b-4e54-a1ce-2420c6c7cb6f",
   "metadata": {
    "id": "f73dceb4-e15b-4e54-a1ce-2420c6c7cb6f"
   },
   "source": [
    "Garis merah merupakan Regression Line dari model yang telah dibuat sebelumnya."
   ]
  },
  {
   "cell_type": "markdown",
   "id": "b0cf0af3-8be5-4775-98c3-dac5afa5c14c",
   "metadata": {
    "id": "b0cf0af3-8be5-4775-98c3-dac5afa5c14c"
   },
   "source": [
    "### Setelah kita yakin dengan model yang dibuat, selanjutnya adalah prediksi dari CO2EMISSIONS mobil dari nilai enginesize."
   ]
  },
  {
   "cell_type": "markdown",
   "id": "313bd812",
   "metadata": {
    "id": "313bd812"
   },
   "source": [
    "# Latihan(5)\n",
    "lengkapilah kode dibawah!"
   ]
  },
  {
   "cell_type": "code",
   "execution_count": 36,
   "id": "3eb14f96-a0d7-4b7e-9cbe-198881883874",
   "metadata": {
    "id": "3eb14f96-a0d7-4b7e-9cbe-198881883874",
    "outputId": "595057fe-45e3-4dea-9724-e0ca52663e20",
    "papermill": {
     "duration": 0.044337,
     "end_time": "2020-12-18T08:30:34.411292",
     "exception": false,
     "start_time": "2020-12-18T08:30:34.366955",
     "status": "completed"
    },
    "tags": []
   },
   "outputs": [
    {
     "name": "stdout",
     "output_type": "stream",
     "text": [
      "nilai prediksi CO2EMISSIONS dengan enginesize 1 :  [[164.01145294]]\n",
      "nilai prediksi CO2EMISSIONS dengan enginesize 5 :  [[321.49050291]]\n",
      "nilai prediksi CO2EMISSIONS dengan enginesize 9 :  [[478.96955288]]\n"
     ]
    }
   ],
   "source": [
    "#Prediksi CO2EMISSIONS mobil dengan variasi nilai enginesize.\n",
    "\n",
    "print('nilai prediksi CO2EMISSIONS dengan enginesize 1 : ',regressor.predict([[1]]))\n",
    "print('nilai prediksi CO2EMISSIONS dengan enginesize 5 : ',regressor.predict([[5]]))\n",
    "print('nilai prediksi CO2EMISSIONS dengan enginesize 9 : ',regressor.predict([[9]]))"
   ]
  },
  {
   "cell_type": "code",
   "execution_count": 37,
   "id": "e79096db-69e4-4b57-9030-cbfa09f57528",
   "metadata": {
    "id": "e79096db-69e4-4b57-9030-cbfa09f57528",
    "papermill": {
     "duration": 0.043737,
     "end_time": "2020-12-18T08:30:34.490818",
     "exception": false,
     "start_time": "2020-12-18T08:30:34.447081",
     "status": "completed"
    },
    "tags": []
   },
   "outputs": [],
   "source": [
    "np_table = np.concatenate((x_test,y_test,y_prediksi), axis=1)\n",
    "new_dataframe = pd.DataFrame(data=np_table, columns=['x_test','y_test','y_predict'])"
   ]
  },
  {
   "cell_type": "code",
   "execution_count": 38,
   "id": "0e97a9a8-98d6-4d89-85ee-26d3310b608e",
   "metadata": {
    "id": "0e97a9a8-98d6-4d89-85ee-26d3310b608e",
    "outputId": "362d55d9-1e04-4558-843d-fa53f5804c03",
    "papermill": {
     "duration": 0.054006,
     "end_time": "2020-12-18T08:30:34.581523",
     "exception": false,
     "start_time": "2020-12-18T08:30:34.527517",
     "status": "completed"
    },
    "tags": []
   },
   "outputs": [
    {
     "data": {
      "text/html": [
       "<div>\n",
       "<style scoped>\n",
       "    .dataframe tbody tr th:only-of-type {\n",
       "        vertical-align: middle;\n",
       "    }\n",
       "\n",
       "    .dataframe tbody tr th {\n",
       "        vertical-align: top;\n",
       "    }\n",
       "\n",
       "    .dataframe thead th {\n",
       "        text-align: right;\n",
       "    }\n",
       "</style>\n",
       "<table border=\"1\" class=\"dataframe\">\n",
       "  <thead>\n",
       "    <tr style=\"text-align: right;\">\n",
       "      <th></th>\n",
       "      <th>x_test</th>\n",
       "      <th>y_test</th>\n",
       "      <th>y_predict</th>\n",
       "    </tr>\n",
       "  </thead>\n",
       "  <tbody>\n",
       "    <tr>\n",
       "      <th>0</th>\n",
       "      <td>3.5</td>\n",
       "      <td>271.0</td>\n",
       "      <td>262.435859</td>\n",
       "    </tr>\n",
       "    <tr>\n",
       "      <th>1</th>\n",
       "      <td>5.3</td>\n",
       "      <td>299.0</td>\n",
       "      <td>333.301432</td>\n",
       "    </tr>\n",
       "    <tr>\n",
       "      <th>2</th>\n",
       "      <td>3.0</td>\n",
       "      <td>258.0</td>\n",
       "      <td>242.750978</td>\n",
       "    </tr>\n",
       "    <tr>\n",
       "      <th>3</th>\n",
       "      <td>5.7</td>\n",
       "      <td>308.0</td>\n",
       "      <td>349.049337</td>\n",
       "    </tr>\n",
       "    <tr>\n",
       "      <th>4</th>\n",
       "      <td>5.3</td>\n",
       "      <td>270.0</td>\n",
       "      <td>333.301432</td>\n",
       "    </tr>\n",
       "    <tr>\n",
       "      <th>...</th>\n",
       "      <td>...</td>\n",
       "      <td>...</td>\n",
       "      <td>...</td>\n",
       "    </tr>\n",
       "    <tr>\n",
       "      <th>209</th>\n",
       "      <td>4.4</td>\n",
       "      <td>292.0</td>\n",
       "      <td>297.868645</td>\n",
       "    </tr>\n",
       "    <tr>\n",
       "      <th>210</th>\n",
       "      <td>2.0</td>\n",
       "      <td>230.0</td>\n",
       "      <td>203.381215</td>\n",
       "    </tr>\n",
       "    <tr>\n",
       "      <th>211</th>\n",
       "      <td>3.6</td>\n",
       "      <td>308.0</td>\n",
       "      <td>266.372835</td>\n",
       "    </tr>\n",
       "    <tr>\n",
       "      <th>212</th>\n",
       "      <td>3.7</td>\n",
       "      <td>255.0</td>\n",
       "      <td>270.309812</td>\n",
       "    </tr>\n",
       "    <tr>\n",
       "      <th>213</th>\n",
       "      <td>3.5</td>\n",
       "      <td>274.0</td>\n",
       "      <td>262.435859</td>\n",
       "    </tr>\n",
       "  </tbody>\n",
       "</table>\n",
       "<p>214 rows × 3 columns</p>\n",
       "</div>"
      ],
      "text/plain": [
       "     x_test  y_test   y_predict\n",
       "0       3.5   271.0  262.435859\n",
       "1       5.3   299.0  333.301432\n",
       "2       3.0   258.0  242.750978\n",
       "3       5.7   308.0  349.049337\n",
       "4       5.3   270.0  333.301432\n",
       "..      ...     ...         ...\n",
       "209     4.4   292.0  297.868645\n",
       "210     2.0   230.0  203.381215\n",
       "211     3.6   308.0  266.372835\n",
       "212     3.7   255.0  270.309812\n",
       "213     3.5   274.0  262.435859\n",
       "\n",
       "[214 rows x 3 columns]"
      ]
     },
     "execution_count": 38,
     "metadata": {},
     "output_type": "execute_result"
    }
   ],
   "source": [
    "new_dataframe"
   ]
  },
  {
   "cell_type": "markdown",
   "id": "afb14ec9-3f80-429f-8452-b6c91e6f39db",
   "metadata": {
    "id": "afb14ec9-3f80-429f-8452-b6c91e6f39db",
    "papermill": {
     "duration": 0.07781,
     "end_time": "2020-12-18T08:30:34.696988",
     "exception": false,
     "start_time": "2020-12-18T08:30:34.619178",
     "status": "completed"
    },
    "tags": []
   },
   "source": [
    "Semakin tinggi nilai error, semakin besar errornya"
   ]
  },
  {
   "cell_type": "markdown",
   "id": "1aa96f75-b350-48fe-8143-5d62431a907c",
   "metadata": {
    "id": "1aa96f75-b350-48fe-8143-5d62431a907c"
   },
   "source": [
    "### Cetak nilai Mean Absolute Error, Mean Squared Error, dan Root Mean Squared Error"
   ]
  },
  {
   "cell_type": "code",
   "execution_count": 39,
   "id": "1c543a63-236c-40b1-a51f-24215c789257",
   "metadata": {
    "id": "1c543a63-236c-40b1-a51f-24215c789257",
    "outputId": "357b39e5-1a17-4b7f-fed7-ea6548aafc2b",
    "papermill": {
     "duration": 0.047646,
     "end_time": "2020-12-18T08:30:34.782568",
     "exception": false,
     "start_time": "2020-12-18T08:30:34.734922",
     "status": "completed"
    },
    "tags": []
   },
   "outputs": [
    {
     "name": "stdout",
     "output_type": "stream",
     "text": [
      "Mean Absolute Error: 22.303837062549505\n",
      "Mean Squared Error: 819.4613970715069\n",
      "Root Mean Squared Error: 28.626236166696923\n"
     ]
    }
   ],
   "source": [
    "from sklearn import metrics  \n",
    "print('Mean Absolute Error:', metrics.mean_absolute_error(y_test, y_prediksi))  \n",
    "print('Mean Squared Error:', metrics.mean_squared_error(y_test, y_prediksi))  \n",
    "print('Root Mean Squared Error:', np.sqrt(metrics.mean_squared_error(y_test, y_prediksi)))    "
   ]
  },
  {
   "cell_type": "code",
   "execution_count": 40,
   "id": "fb26525e-5b07-4b3b-8c6b-8ae589cc1727",
   "metadata": {
    "id": "fb26525e-5b07-4b3b-8c6b-8ae589cc1727",
    "outputId": "31e067ca-5ed2-48e1-bb12-69a81a7dfe9e",
    "papermill": {
     "duration": 0.196894,
     "end_time": "2020-12-18T08:30:35.016931",
     "exception": false,
     "start_time": "2020-12-18T08:30:34.820037",
     "status": "completed"
    },
    "tags": []
   },
   "outputs": [
    {
     "data": {
      "image/png": "[encoded data removed]",
      "text/plain": [
       "<Figure size 432x288 with 1 Axes>"
      ]
     },
     "metadata": {
      "needs_background": "light"
     },
     "output_type": "display_data"
    }
   ],
   "source": [
    "plt.title('Comparison of Y values in test and the Predicted values')\n",
    "plt.ylabel('Test Set')\n",
    "plt.xlabel('Predicted values')\n",
    "plt.plot(y_prediksi, '.', y_test, 'x')\n",
    "plt.show()"
   ]
  },
  {
   "cell_type": "markdown",
   "id": "35f780b3",
   "metadata": {
    "id": "35f780b3"
   },
   "source": [
    "[Lebih lengkap mengenai nilai error](https://www.dqlab.id/kriteria-jenis-teknik-analisis-data-dalam-forecasting)"
   ]
  }
 ],
 "metadata": {
  "colab": {
   "provenance": []
  },
  "kernelspec": {
   "display_name": "Python 3",
   "language": "python",
   "name": "python3"
  },
  "language_info": {
   "codemirror_mode": {
    "name": "ipython",
    "version": 3
   },
   "file_extension": ".py",
   "mimetype": "text/x-python",
   "name": "python",
   "nbconvert_exporter": "python",
   "pygments_lexer": "ipython3",
   "version": "3.8.8"
  }
 },
 "nbformat": 4,
 "nbformat_minor": 5
}
