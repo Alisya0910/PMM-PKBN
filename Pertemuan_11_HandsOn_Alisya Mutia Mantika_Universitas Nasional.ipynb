{
 "cells": [
  {
   "cell_type": "markdown",
   "metadata": {
    "id": "4gmGPs1GesAS"
   },
   "source": [
    "<center>\n",
    "    <img src=\"https://drive.google.com/uc?export=view&id=1hDKusF04c0lNZA_qOShvWQrpImayVKz8\" width=\"1000\"/>\n",
    "</center>\n",
    "\n"
   ]
  },
  {
   "cell_type": "markdown",
   "metadata": {
    "id": "mmZ_u-1KqzIm"
   },
   "source": [
    "# Clustering K-Means Dengan Python\n",
    "Istilah “klaster (cluster)” mempunyai pengertian secara bahasa sebagai kumpulan, kelompok, himpunan, atau gabungan dari sebuah obyek tertentu yang mempunyai kemiripan karakteristik tertentu."
   ]
  },
  {
   "cell_type": "markdown",
   "metadata": {},
   "source": [
    "Nama : Alisya Mutia Mantika\n",
    "\n",
    "NPM : 207064516054\n",
    "\n",
    "Prodi : Informatika\n",
    "\n",
    "Asal PT : Universitas Nasional\n",
    "Paket B - Data Science"
   ]
  },
  {
   "cell_type": "markdown",
   "metadata": {
    "id": "kV5289JudwRc"
   },
   "source": [
    "## Latihan 1\n",
    "Import Library yang dibutuhkan"
   ]
  },
  {
   "cell_type": "code",
   "execution_count": 2,
   "metadata": {
    "id": "rX5KkBzta3-9"
   },
   "outputs": [],
   "source": [
    "# Import library Pandas\n",
    "import pandas as pd\n",
    "# Import library Numpy\n",
    "import numpy as np\n",
    "# Import library Matplotlib\n",
    "import matplotlib as plt\n",
    "# Import library Seaborn \n",
    "import seaborn as sns\n",
    "\n",
    "from sklearn.cluster import KMeans \n",
    "from sklearn.metrics import silhouette_score\n",
    "from sklearn.preprocessing import MinMaxScaler"
   ]
  },
  {
   "cell_type": "code",
   "execution_count": 4,
   "metadata": {
    "colab": {
     "base_uri": "https://localhost:8080/",
     "height": 206
    },
    "id": "xJo9P0s4g-yX",
    "outputId": "8424feb9-805f-435b-ade9-36aefb9d308b"
   },
   "outputs": [
    {
     "data": {
      "text/html": [
       "<div>\n",
       "<style scoped>\n",
       "    .dataframe tbody tr th:only-of-type {\n",
       "        vertical-align: middle;\n",
       "    }\n",
       "\n",
       "    .dataframe tbody tr th {\n",
       "        vertical-align: top;\n",
       "    }\n",
       "\n",
       "    .dataframe thead th {\n",
       "        text-align: right;\n",
       "    }\n",
       "</style>\n",
       "<table border=\"1\" class=\"dataframe\">\n",
       "  <thead>\n",
       "    <tr style=\"text-align: right;\">\n",
       "      <th></th>\n",
       "      <th>SepalLengthCm</th>\n",
       "      <th>SepalWidthCm</th>\n",
       "      <th>PetalLengthCm</th>\n",
       "      <th>PetalWidthCm</th>\n",
       "      <th>Species</th>\n",
       "    </tr>\n",
       "  </thead>\n",
       "  <tbody>\n",
       "    <tr>\n",
       "      <th>0</th>\n",
       "      <td>4.6</td>\n",
       "      <td>3.1</td>\n",
       "      <td>1.5</td>\n",
       "      <td>0.2</td>\n",
       "      <td>Iris-setosa</td>\n",
       "    </tr>\n",
       "    <tr>\n",
       "      <th>1</th>\n",
       "      <td>5.0</td>\n",
       "      <td>3.6</td>\n",
       "      <td>1.4</td>\n",
       "      <td>0.2</td>\n",
       "      <td>Iris-setosa</td>\n",
       "    </tr>\n",
       "    <tr>\n",
       "      <th>2</th>\n",
       "      <td>5.4</td>\n",
       "      <td>3.9</td>\n",
       "      <td>1.7</td>\n",
       "      <td>0.4</td>\n",
       "      <td>Iris-setosa</td>\n",
       "    </tr>\n",
       "    <tr>\n",
       "      <th>3</th>\n",
       "      <td>4.9</td>\n",
       "      <td>3.1</td>\n",
       "      <td>1.5</td>\n",
       "      <td>0.1</td>\n",
       "      <td>Iris-setosa</td>\n",
       "    </tr>\n",
       "    <tr>\n",
       "      <th>4</th>\n",
       "      <td>5.4</td>\n",
       "      <td>3.7</td>\n",
       "      <td>1.5</td>\n",
       "      <td>0.2</td>\n",
       "      <td>Iris-setosa</td>\n",
       "    </tr>\n",
       "  </tbody>\n",
       "</table>\n",
       "</div>"
      ],
      "text/plain": [
       "   SepalLengthCm  SepalWidthCm  PetalLengthCm  PetalWidthCm      Species\n",
       "0            4.6           3.1            1.5           0.2  Iris-setosa\n",
       "1            5.0           3.6            1.4           0.2  Iris-setosa\n",
       "2            5.4           3.9            1.7           0.4  Iris-setosa\n",
       "3            4.9           3.1            1.5           0.1  Iris-setosa\n",
       "4            5.4           3.7            1.5           0.2  Iris-setosa"
      ]
     },
     "execution_count": 4,
     "metadata": {},
     "output_type": "execute_result"
    }
   ],
   "source": [
    "# Ubah lokasi file sesuai dengan lokasi Dataset di komputer individu\n",
    "df = pd.read_csv('Iris_AfterClean.csv')\n",
    "df.head()"
   ]
  },
  {
   "cell_type": "code",
   "execution_count": 5,
   "metadata": {
    "colab": {
     "base_uri": "https://localhost:8080/",
     "height": 424
    },
    "id": "BLsPMKtVeby4",
    "outputId": "2eceb30e-068a-469b-acd0-088af926382c"
   },
   "outputs": [
    {
     "data": {
      "text/html": [
       "<div>\n",
       "<style scoped>\n",
       "    .dataframe tbody tr th:only-of-type {\n",
       "        vertical-align: middle;\n",
       "    }\n",
       "\n",
       "    .dataframe tbody tr th {\n",
       "        vertical-align: top;\n",
       "    }\n",
       "\n",
       "    .dataframe thead th {\n",
       "        text-align: right;\n",
       "    }\n",
       "</style>\n",
       "<table border=\"1\" class=\"dataframe\">\n",
       "  <thead>\n",
       "    <tr style=\"text-align: right;\">\n",
       "      <th></th>\n",
       "      <th>SepalLengthCm</th>\n",
       "      <th>SepalWidthCm</th>\n",
       "      <th>PetalLengthCm</th>\n",
       "      <th>PetalWidthCm</th>\n",
       "    </tr>\n",
       "  </thead>\n",
       "  <tbody>\n",
       "    <tr>\n",
       "      <th>0</th>\n",
       "      <td>4.6</td>\n",
       "      <td>3.1</td>\n",
       "      <td>1.5</td>\n",
       "      <td>0.2</td>\n",
       "    </tr>\n",
       "    <tr>\n",
       "      <th>1</th>\n",
       "      <td>5.0</td>\n",
       "      <td>3.6</td>\n",
       "      <td>1.4</td>\n",
       "      <td>0.2</td>\n",
       "    </tr>\n",
       "    <tr>\n",
       "      <th>2</th>\n",
       "      <td>5.4</td>\n",
       "      <td>3.9</td>\n",
       "      <td>1.7</td>\n",
       "      <td>0.4</td>\n",
       "    </tr>\n",
       "    <tr>\n",
       "      <th>3</th>\n",
       "      <td>4.9</td>\n",
       "      <td>3.1</td>\n",
       "      <td>1.5</td>\n",
       "      <td>0.1</td>\n",
       "    </tr>\n",
       "    <tr>\n",
       "      <th>4</th>\n",
       "      <td>5.4</td>\n",
       "      <td>3.7</td>\n",
       "      <td>1.5</td>\n",
       "      <td>0.2</td>\n",
       "    </tr>\n",
       "    <tr>\n",
       "      <th>...</th>\n",
       "      <td>...</td>\n",
       "      <td>...</td>\n",
       "      <td>...</td>\n",
       "      <td>...</td>\n",
       "    </tr>\n",
       "    <tr>\n",
       "      <th>135</th>\n",
       "      <td>6.7</td>\n",
       "      <td>3.0</td>\n",
       "      <td>5.2</td>\n",
       "      <td>2.3</td>\n",
       "    </tr>\n",
       "    <tr>\n",
       "      <th>136</th>\n",
       "      <td>6.3</td>\n",
       "      <td>2.5</td>\n",
       "      <td>5.0</td>\n",
       "      <td>1.9</td>\n",
       "    </tr>\n",
       "    <tr>\n",
       "      <th>137</th>\n",
       "      <td>6.5</td>\n",
       "      <td>3.0</td>\n",
       "      <td>5.2</td>\n",
       "      <td>2.0</td>\n",
       "    </tr>\n",
       "    <tr>\n",
       "      <th>138</th>\n",
       "      <td>6.2</td>\n",
       "      <td>3.4</td>\n",
       "      <td>5.4</td>\n",
       "      <td>2.3</td>\n",
       "    </tr>\n",
       "    <tr>\n",
       "      <th>139</th>\n",
       "      <td>5.9</td>\n",
       "      <td>3.0</td>\n",
       "      <td>5.1</td>\n",
       "      <td>1.8</td>\n",
       "    </tr>\n",
       "  </tbody>\n",
       "</table>\n",
       "<p>140 rows × 4 columns</p>\n",
       "</div>"
      ],
      "text/plain": [
       "     SepalLengthCm  SepalWidthCm  PetalLengthCm  PetalWidthCm\n",
       "0              4.6           3.1            1.5           0.2\n",
       "1              5.0           3.6            1.4           0.2\n",
       "2              5.4           3.9            1.7           0.4\n",
       "3              4.9           3.1            1.5           0.1\n",
       "4              5.4           3.7            1.5           0.2\n",
       "..             ...           ...            ...           ...\n",
       "135            6.7           3.0            5.2           2.3\n",
       "136            6.3           2.5            5.0           1.9\n",
       "137            6.5           3.0            5.2           2.0\n",
       "138            6.2           3.4            5.4           2.3\n",
       "139            5.9           3.0            5.1           1.8\n",
       "\n",
       "[140 rows x 4 columns]"
      ]
     },
     "execution_count": 5,
     "metadata": {},
     "output_type": "execute_result"
    }
   ],
   "source": [
    "# Membuang kolom yang tidak diperlukan 'Species'\n",
    "df_new = df.drop(axis=1,columns='Species')\n",
    "df_new\n"
   ]
  },
  {
   "cell_type": "code",
   "execution_count": 6,
   "metadata": {
    "colab": {
     "base_uri": "https://localhost:8080/",
     "height": 296
    },
    "id": "OLSMFpKEhL6A",
    "outputId": "dfe75433-1a37-4ba5-d884-6b4c4cc36aea"
   },
   "outputs": [
    {
     "data": {
      "text/plain": [
       "<AxesSubplot:xlabel='SepalLengthCm', ylabel='SepalWidthCm'>"
      ]
     },
     "execution_count": 6,
     "metadata": {},
     "output_type": "execute_result"
    },
    {
     "data": {
      "image/png": "[encoded data removed]",
      "text/plain": [
       "<Figure size 432x288 with 1 Axes>"
      ]
     },
     "metadata": {
      "needs_background": "light"
     },
     "output_type": "display_data"
    }
   ],
   "source": [
    "# Membuat scatterplot dari SepalLengthCm dan SepalWidthCm.\n",
    "sns.scatterplot(x='SepalLengthCm', y='SepalWidthCm', data=df, s=100, color='red', alpha = 0.5)"
   ]
  },
  {
   "cell_type": "markdown",
   "metadata": {
    "id": "-K-yJfIylDW5"
   },
   "source": [
    "## Latihan 2\n",
    "Lakukan visualisasi Scatter plot untuk kolom <code>'PetalLengthCm'</code> dan\t<code>'PetalWidthCm'</code>"
   ]
  },
  {
   "cell_type": "code",
   "execution_count": null,
   "metadata": {
    "colab": {
     "base_uri": "https://localhost:8080/"
    },
    "id": "AA9U1u1VlCzH",
    "outputId": "473e41a7-baca-4827-90a2-1fdc8978bc33"
   },
   "outputs": [
    {
     "data": {
      "text/plain": [
       "Ellipsis"
      ]
     },
     "execution_count": 29,
     "metadata": {},
     "output_type": "execute_result"
    }
   ],
   "source": [
    "..."
   ]
  },
  {
   "cell_type": "code",
   "execution_count": 7,
   "metadata": {},
   "outputs": [
    {
     "data": {
      "text/plain": [
       "<AxesSubplot:xlabel='PetalLengthCm', ylabel='PetalWidthCm'>"
      ]
     },
     "execution_count": 7,
     "metadata": {},
     "output_type": "execute_result"
    },
    {
     "data": {
      "image/png": "[encoded data removed]",
      "text/plain": [
       "<Figure size 432x288 with 1 Axes>"
      ]
     },
     "metadata": {
      "needs_background": "light"
     },
     "output_type": "display_data"
    }
   ],
   "source": [
    "#Visualisasi Scatter Plot untuk kolom 'PetalLengthCm' dan 'PetalWidthCm'\n",
    "sns.scatterplot(x='PetalLengthCm', y='PetalWidthCm', data=df, s=100, color='blue', alpha = 0.5)"
   ]
  },
  {
   "cell_type": "code",
   "execution_count": 8,
   "metadata": {
    "colab": {
     "base_uri": "https://localhost:8080/",
     "height": 206
    },
    "id": "wOeICDIajiO2",
    "outputId": "e8e00a52-0384-449d-94ad-8440fab94f25"
   },
   "outputs": [
    {
     "data": {
      "text/html": [
       "<div>\n",
       "<style scoped>\n",
       "    .dataframe tbody tr th:only-of-type {\n",
       "        vertical-align: middle;\n",
       "    }\n",
       "\n",
       "    .dataframe tbody tr th {\n",
       "        vertical-align: top;\n",
       "    }\n",
       "\n",
       "    .dataframe thead th {\n",
       "        text-align: right;\n",
       "    }\n",
       "</style>\n",
       "<table border=\"1\" class=\"dataframe\">\n",
       "  <thead>\n",
       "    <tr style=\"text-align: right;\">\n",
       "      <th></th>\n",
       "      <th>SepalLengthCm</th>\n",
       "      <th>SepalWidthCm</th>\n",
       "    </tr>\n",
       "  </thead>\n",
       "  <tbody>\n",
       "    <tr>\n",
       "      <th>0</th>\n",
       "      <td>4.6</td>\n",
       "      <td>3.1</td>\n",
       "    </tr>\n",
       "    <tr>\n",
       "      <th>1</th>\n",
       "      <td>5.0</td>\n",
       "      <td>3.6</td>\n",
       "    </tr>\n",
       "    <tr>\n",
       "      <th>2</th>\n",
       "      <td>5.4</td>\n",
       "      <td>3.9</td>\n",
       "    </tr>\n",
       "    <tr>\n",
       "      <th>3</th>\n",
       "      <td>4.9</td>\n",
       "      <td>3.1</td>\n",
       "    </tr>\n",
       "    <tr>\n",
       "      <th>4</th>\n",
       "      <td>5.4</td>\n",
       "      <td>3.7</td>\n",
       "    </tr>\n",
       "  </tbody>\n",
       "</table>\n",
       "</div>"
      ],
      "text/plain": [
       "   SepalLengthCm  SepalWidthCm\n",
       "0            4.6           3.1\n",
       "1            5.0           3.6\n",
       "2            5.4           3.9\n",
       "3            4.9           3.1\n",
       "4            5.4           3.7"
      ]
     },
     "execution_count": 8,
     "metadata": {},
     "output_type": "execute_result"
    }
   ],
   "source": [
    "# menentukan data yang akan dikluster, yaitu data dengan variabel SepalLengthCm dan SepalWidthCm\n",
    "df_x = df.iloc[:, 0:2]\n",
    "df_x.head()"
   ]
  },
  {
   "cell_type": "markdown",
   "metadata": {
    "id": "RXnWRmehmcgk"
   },
   "source": [
    "## Latihan 3\n",
    "Ubah DataFrame <code>df_x</code> menjadi sebuah Array! Bisa dengan df_x.to_numpy() atau np.array(df_x)"
   ]
  },
  {
   "cell_type": "code",
   "execution_count": 10,
   "metadata": {
    "colab": {
     "base_uri": "https://localhost:8080/"
    },
    "id": "AdkSap8Kj5O1",
    "outputId": "7f0f9f76-6ab1-4a92-8985-a1dabdbae954"
   },
   "outputs": [
    {
     "name": "stdout",
     "output_type": "stream",
     "text": [
      "[[4.6 3.1]\n",
      " [5.  3.6]\n",
      " [5.4 3.9]\n",
      " [4.9 3.1]\n",
      " [5.4 3.7]\n",
      " [4.8 3.4]\n",
      " [4.8 3. ]\n",
      " [4.3 3. ]\n",
      " [5.8 4. ]\n",
      " [5.4 3.9]\n",
      " [5.1 3.5]\n",
      " [5.7 3.8]\n",
      " [5.1 3.8]\n",
      " [5.4 3.4]\n",
      " [5.1 3.7]\n",
      " [4.6 3.6]\n",
      " [5.1 3.3]\n",
      " [4.8 3.4]\n",
      " [5.  3. ]\n",
      " [5.  3.4]\n",
      " [5.2 3.5]\n",
      " [5.2 3.4]\n",
      " [4.7 3.2]\n",
      " [4.8 3.1]\n",
      " [5.4 3.4]\n",
      " [4.9 3.1]\n",
      " [5.  3.2]\n",
      " [5.5 3.5]\n",
      " [4.9 3.1]\n",
      " [4.4 3. ]\n",
      " [5.1 3.4]\n",
      " [5.  3.5]\n",
      " [4.5 2.3]\n",
      " [4.4 3.2]\n",
      " [5.  3.5]\n",
      " [5.1 3.8]\n",
      " [4.8 3. ]\n",
      " [5.1 3.8]\n",
      " [4.6 3.2]\n",
      " [5.3 3.7]\n",
      " [5.  3.3]\n",
      " [7.  3.2]\n",
      " [6.4 3.2]\n",
      " [6.9 3.1]\n",
      " [5.5 2.3]\n",
      " [6.5 2.8]\n",
      " [5.7 2.8]\n",
      " [6.3 3.3]\n",
      " [4.9 2.4]\n",
      " [6.6 2.9]\n",
      " [5.2 2.7]\n",
      " [5.9 3. ]\n",
      " [6.  2.2]\n",
      " [6.1 2.9]\n",
      " [5.6 2.9]\n",
      " [6.7 3.1]\n",
      " [5.6 3. ]\n",
      " [5.8 2.7]\n",
      " [6.2 2.2]\n",
      " [5.6 2.5]\n",
      " [5.9 3.2]\n",
      " [6.1 2.8]\n",
      " [6.3 2.5]\n",
      " [6.1 2.8]\n",
      " [6.4 2.9]\n",
      " [6.6 3. ]\n",
      " [6.8 2.8]\n",
      " [6.7 3. ]\n",
      " [6.  2.9]\n",
      " [5.7 2.6]\n",
      " [5.5 2.4]\n",
      " [5.5 2.4]\n",
      " [5.8 2.7]\n",
      " [6.  2.7]\n",
      " [5.4 3. ]\n",
      " [6.  3.4]\n",
      " [6.7 3.1]\n",
      " [6.3 2.3]\n",
      " [5.6 3. ]\n",
      " [5.5 2.5]\n",
      " [5.5 2.6]\n",
      " [6.1 3. ]\n",
      " [5.8 2.6]\n",
      " [5.  2.3]\n",
      " [5.6 2.7]\n",
      " [5.7 3. ]\n",
      " [5.7 2.9]\n",
      " [6.2 2.9]\n",
      " [5.1 2.5]\n",
      " [5.7 2.8]\n",
      " [6.3 3.3]\n",
      " [5.8 2.7]\n",
      " [7.1 3. ]\n",
      " [6.3 2.9]\n",
      " [6.5 3. ]\n",
      " [7.6 3. ]\n",
      " [4.9 2.5]\n",
      " [7.3 2.9]\n",
      " [6.7 2.5]\n",
      " [7.2 3.6]\n",
      " [6.5 3.2]\n",
      " [6.4 2.7]\n",
      " [6.8 3. ]\n",
      " [5.7 2.5]\n",
      " [5.8 2.8]\n",
      " [6.4 3.2]\n",
      " [6.5 3. ]\n",
      " [7.7 3.8]\n",
      " [7.7 2.6]\n",
      " [6.  2.2]\n",
      " [6.9 3.2]\n",
      " [5.6 2.8]\n",
      " [7.7 2.8]\n",
      " [6.3 2.7]\n",
      " [6.7 3.3]\n",
      " [7.2 3.2]\n",
      " [6.2 2.8]\n",
      " [6.1 3. ]\n",
      " [6.4 2.8]\n",
      " [7.2 3. ]\n",
      " [7.4 2.8]\n",
      " [7.9 3.8]\n",
      " [6.4 2.8]\n",
      " [6.3 2.8]\n",
      " [6.1 2.6]\n",
      " [7.7 3. ]\n",
      " [6.3 3.4]\n",
      " [6.4 3.1]\n",
      " [6.  3. ]\n",
      " [6.9 3.1]\n",
      " [6.7 3.1]\n",
      " [6.9 3.1]\n",
      " [5.8 2.7]\n",
      " [6.8 3.2]\n",
      " [6.7 3.3]\n",
      " [6.7 3. ]\n",
      " [6.3 2.5]\n",
      " [6.5 3. ]\n",
      " [6.2 3.4]\n",
      " [5.9 3. ]]\n"
     ]
    }
   ],
   "source": [
    "# mengubah variabel data frame yang akan dikluster menjadi array.\n",
    "x_array = np.array(df_x)\n",
    "print(x_array)"
   ]
  },
  {
   "cell_type": "code",
   "execution_count": 11,
   "metadata": {},
   "outputs": [
    {
     "name": "stdout",
     "output_type": "stream",
     "text": [
      "[[4.6 3.1]\n",
      " [5.  3.6]\n",
      " [5.4 3.9]\n",
      " [4.9 3.1]\n",
      " [5.4 3.7]\n",
      " [4.8 3.4]\n",
      " [4.8 3. ]\n",
      " [4.3 3. ]\n",
      " [5.8 4. ]\n",
      " [5.4 3.9]\n",
      " [5.1 3.5]\n",
      " [5.7 3.8]\n",
      " [5.1 3.8]\n",
      " [5.4 3.4]\n",
      " [5.1 3.7]\n",
      " [4.6 3.6]\n",
      " [5.1 3.3]\n",
      " [4.8 3.4]\n",
      " [5.  3. ]\n",
      " [5.  3.4]\n",
      " [5.2 3.5]\n",
      " [5.2 3.4]\n",
      " [4.7 3.2]\n",
      " [4.8 3.1]\n",
      " [5.4 3.4]\n",
      " [4.9 3.1]\n",
      " [5.  3.2]\n",
      " [5.5 3.5]\n",
      " [4.9 3.1]\n",
      " [4.4 3. ]\n",
      " [5.1 3.4]\n",
      " [5.  3.5]\n",
      " [4.5 2.3]\n",
      " [4.4 3.2]\n",
      " [5.  3.5]\n",
      " [5.1 3.8]\n",
      " [4.8 3. ]\n",
      " [5.1 3.8]\n",
      " [4.6 3.2]\n",
      " [5.3 3.7]\n",
      " [5.  3.3]\n",
      " [7.  3.2]\n",
      " [6.4 3.2]\n",
      " [6.9 3.1]\n",
      " [5.5 2.3]\n",
      " [6.5 2.8]\n",
      " [5.7 2.8]\n",
      " [6.3 3.3]\n",
      " [4.9 2.4]\n",
      " [6.6 2.9]\n",
      " [5.2 2.7]\n",
      " [5.9 3. ]\n",
      " [6.  2.2]\n",
      " [6.1 2.9]\n",
      " [5.6 2.9]\n",
      " [6.7 3.1]\n",
      " [5.6 3. ]\n",
      " [5.8 2.7]\n",
      " [6.2 2.2]\n",
      " [5.6 2.5]\n",
      " [5.9 3.2]\n",
      " [6.1 2.8]\n",
      " [6.3 2.5]\n",
      " [6.1 2.8]\n",
      " [6.4 2.9]\n",
      " [6.6 3. ]\n",
      " [6.8 2.8]\n",
      " [6.7 3. ]\n",
      " [6.  2.9]\n",
      " [5.7 2.6]\n",
      " [5.5 2.4]\n",
      " [5.5 2.4]\n",
      " [5.8 2.7]\n",
      " [6.  2.7]\n",
      " [5.4 3. ]\n",
      " [6.  3.4]\n",
      " [6.7 3.1]\n",
      " [6.3 2.3]\n",
      " [5.6 3. ]\n",
      " [5.5 2.5]\n",
      " [5.5 2.6]\n",
      " [6.1 3. ]\n",
      " [5.8 2.6]\n",
      " [5.  2.3]\n",
      " [5.6 2.7]\n",
      " [5.7 3. ]\n",
      " [5.7 2.9]\n",
      " [6.2 2.9]\n",
      " [5.1 2.5]\n",
      " [5.7 2.8]\n",
      " [6.3 3.3]\n",
      " [5.8 2.7]\n",
      " [7.1 3. ]\n",
      " [6.3 2.9]\n",
      " [6.5 3. ]\n",
      " [7.6 3. ]\n",
      " [4.9 2.5]\n",
      " [7.3 2.9]\n",
      " [6.7 2.5]\n",
      " [7.2 3.6]\n",
      " [6.5 3.2]\n",
      " [6.4 2.7]\n",
      " [6.8 3. ]\n",
      " [5.7 2.5]\n",
      " [5.8 2.8]\n",
      " [6.4 3.2]\n",
      " [6.5 3. ]\n",
      " [7.7 3.8]\n",
      " [7.7 2.6]\n",
      " [6.  2.2]\n",
      " [6.9 3.2]\n",
      " [5.6 2.8]\n",
      " [7.7 2.8]\n",
      " [6.3 2.7]\n",
      " [6.7 3.3]\n",
      " [7.2 3.2]\n",
      " [6.2 2.8]\n",
      " [6.1 3. ]\n",
      " [6.4 2.8]\n",
      " [7.2 3. ]\n",
      " [7.4 2.8]\n",
      " [7.9 3.8]\n",
      " [6.4 2.8]\n",
      " [6.3 2.8]\n",
      " [6.1 2.6]\n",
      " [7.7 3. ]\n",
      " [6.3 3.4]\n",
      " [6.4 3.1]\n",
      " [6.  3. ]\n",
      " [6.9 3.1]\n",
      " [6.7 3.1]\n",
      " [6.9 3.1]\n",
      " [5.8 2.7]\n",
      " [6.8 3.2]\n",
      " [6.7 3.3]\n",
      " [6.7 3. ]\n",
      " [6.3 2.5]\n",
      " [6.5 3. ]\n",
      " [6.2 3.4]\n",
      " [5.9 3. ]]\n"
     ]
    }
   ],
   "source": [
    "x_array = df_x.to_numpy()\n",
    "print(x_array)"
   ]
  },
  {
   "cell_type": "markdown",
   "metadata": {
    "id": "4EOU52TwnF5j"
   },
   "source": [
    "<details><summary>Klik di sini untuk solusinya</summary>\n",
    "\n",
    "``` python\n",
    "x_array = np.array(df_x)\n",
    "print(x_array)\n",
    "```"
   ]
  },
  {
   "cell_type": "code",
   "execution_count": 12,
   "metadata": {
    "colab": {
     "base_uri": "https://localhost:8080/"
    },
    "id": "o6mmUvIRkyf1",
    "outputId": "cc58707a-52d0-441c-fb3f-4e152b5a9227"
   },
   "outputs": [
    {
     "data": {
      "text/plain": [
       "array([[0.08333333, 0.5       ],\n",
       "       [0.19444444, 0.77777778],\n",
       "       [0.30555556, 0.94444444],\n",
       "       [0.16666667, 0.5       ],\n",
       "       [0.30555556, 0.83333333],\n",
       "       [0.13888889, 0.66666667],\n",
       "       [0.13888889, 0.44444444],\n",
       "       [0.        , 0.44444444],\n",
       "       [0.41666667, 1.        ],\n",
       "       [0.30555556, 0.94444444],\n",
       "       [0.22222222, 0.72222222],\n",
       "       [0.38888889, 0.88888889],\n",
       "       [0.22222222, 0.88888889],\n",
       "       [0.30555556, 0.66666667],\n",
       "       [0.22222222, 0.83333333],\n",
       "       [0.08333333, 0.77777778],\n",
       "       [0.22222222, 0.61111111],\n",
       "       [0.13888889, 0.66666667],\n",
       "       [0.19444444, 0.44444444],\n",
       "       [0.19444444, 0.66666667],\n",
       "       [0.25      , 0.72222222],\n",
       "       [0.25      , 0.66666667],\n",
       "       [0.11111111, 0.55555556],\n",
       "       [0.13888889, 0.5       ],\n",
       "       [0.30555556, 0.66666667],\n",
       "       [0.16666667, 0.5       ],\n",
       "       [0.19444444, 0.55555556],\n",
       "       [0.33333333, 0.72222222],\n",
       "       [0.16666667, 0.5       ],\n",
       "       [0.02777778, 0.44444444],\n",
       "       [0.22222222, 0.66666667],\n",
       "       [0.19444444, 0.72222222],\n",
       "       [0.05555556, 0.05555556],\n",
       "       [0.02777778, 0.55555556],\n",
       "       [0.19444444, 0.72222222],\n",
       "       [0.22222222, 0.88888889],\n",
       "       [0.13888889, 0.44444444],\n",
       "       [0.22222222, 0.88888889],\n",
       "       [0.08333333, 0.55555556],\n",
       "       [0.27777778, 0.83333333],\n",
       "       [0.19444444, 0.61111111],\n",
       "       [0.75      , 0.55555556],\n",
       "       [0.58333333, 0.55555556],\n",
       "       [0.72222222, 0.5       ],\n",
       "       [0.33333333, 0.05555556],\n",
       "       [0.61111111, 0.33333333],\n",
       "       [0.38888889, 0.33333333],\n",
       "       [0.55555556, 0.61111111],\n",
       "       [0.16666667, 0.11111111],\n",
       "       [0.63888889, 0.38888889],\n",
       "       [0.25      , 0.27777778],\n",
       "       [0.44444444, 0.44444444],\n",
       "       [0.47222222, 0.        ],\n",
       "       [0.5       , 0.38888889],\n",
       "       [0.36111111, 0.38888889],\n",
       "       [0.66666667, 0.5       ],\n",
       "       [0.36111111, 0.44444444],\n",
       "       [0.41666667, 0.27777778],\n",
       "       [0.52777778, 0.        ],\n",
       "       [0.36111111, 0.16666667],\n",
       "       [0.44444444, 0.55555556],\n",
       "       [0.5       , 0.33333333],\n",
       "       [0.55555556, 0.16666667],\n",
       "       [0.5       , 0.33333333],\n",
       "       [0.58333333, 0.38888889],\n",
       "       [0.63888889, 0.44444444],\n",
       "       [0.69444444, 0.33333333],\n",
       "       [0.66666667, 0.44444444],\n",
       "       [0.47222222, 0.38888889],\n",
       "       [0.38888889, 0.22222222],\n",
       "       [0.33333333, 0.11111111],\n",
       "       [0.33333333, 0.11111111],\n",
       "       [0.41666667, 0.27777778],\n",
       "       [0.47222222, 0.27777778],\n",
       "       [0.30555556, 0.44444444],\n",
       "       [0.47222222, 0.66666667],\n",
       "       [0.66666667, 0.5       ],\n",
       "       [0.55555556, 0.05555556],\n",
       "       [0.36111111, 0.44444444],\n",
       "       [0.33333333, 0.16666667],\n",
       "       [0.33333333, 0.22222222],\n",
       "       [0.5       , 0.44444444],\n",
       "       [0.41666667, 0.22222222],\n",
       "       [0.19444444, 0.05555556],\n",
       "       [0.36111111, 0.27777778],\n",
       "       [0.38888889, 0.44444444],\n",
       "       [0.38888889, 0.38888889],\n",
       "       [0.52777778, 0.38888889],\n",
       "       [0.22222222, 0.16666667],\n",
       "       [0.38888889, 0.33333333],\n",
       "       [0.55555556, 0.61111111],\n",
       "       [0.41666667, 0.27777778],\n",
       "       [0.77777778, 0.44444444],\n",
       "       [0.55555556, 0.38888889],\n",
       "       [0.61111111, 0.44444444],\n",
       "       [0.91666667, 0.44444444],\n",
       "       [0.16666667, 0.16666667],\n",
       "       [0.83333333, 0.38888889],\n",
       "       [0.66666667, 0.16666667],\n",
       "       [0.80555556, 0.77777778],\n",
       "       [0.61111111, 0.55555556],\n",
       "       [0.58333333, 0.27777778],\n",
       "       [0.69444444, 0.44444444],\n",
       "       [0.38888889, 0.16666667],\n",
       "       [0.41666667, 0.33333333],\n",
       "       [0.58333333, 0.55555556],\n",
       "       [0.61111111, 0.44444444],\n",
       "       [0.94444444, 0.88888889],\n",
       "       [0.94444444, 0.22222222],\n",
       "       [0.47222222, 0.        ],\n",
       "       [0.72222222, 0.55555556],\n",
       "       [0.36111111, 0.33333333],\n",
       "       [0.94444444, 0.33333333],\n",
       "       [0.55555556, 0.27777778],\n",
       "       [0.66666667, 0.61111111],\n",
       "       [0.80555556, 0.55555556],\n",
       "       [0.52777778, 0.33333333],\n",
       "       [0.5       , 0.44444444],\n",
       "       [0.58333333, 0.33333333],\n",
       "       [0.80555556, 0.44444444],\n",
       "       [0.86111111, 0.33333333],\n",
       "       [1.        , 0.88888889],\n",
       "       [0.58333333, 0.33333333],\n",
       "       [0.55555556, 0.33333333],\n",
       "       [0.5       , 0.22222222],\n",
       "       [0.94444444, 0.44444444],\n",
       "       [0.55555556, 0.66666667],\n",
       "       [0.58333333, 0.5       ],\n",
       "       [0.47222222, 0.44444444],\n",
       "       [0.72222222, 0.5       ],\n",
       "       [0.66666667, 0.5       ],\n",
       "       [0.72222222, 0.5       ],\n",
       "       [0.41666667, 0.27777778],\n",
       "       [0.69444444, 0.55555556],\n",
       "       [0.66666667, 0.61111111],\n",
       "       [0.66666667, 0.44444444],\n",
       "       [0.55555556, 0.16666667],\n",
       "       [0.61111111, 0.44444444],\n",
       "       [0.52777778, 0.66666667],\n",
       "       [0.44444444, 0.44444444]])"
      ]
     },
     "execution_count": 12,
     "metadata": {},
     "output_type": "execute_result"
    }
   ],
   "source": [
    "# menyamakan skala data atau menstandarisasi data dengan menggunakan sintaks berikut.\n",
    "scaler = MinMaxScaler()\n",
    "x_scaled = scaler.fit_transform(x_array)\n",
    "x_scaled"
   ]
  },
  {
   "cell_type": "markdown",
   "metadata": {
    "id": "zJPA7d0Kniio"
   },
   "source": [
    "## Latihan 4\n",
    "Konfigurasikan parameter Kmeans dengan <b>jumlah cluster = 3</b> dan <b>tingkat random = 100</b>"
   ]
  },
  {
   "cell_type": "code",
   "execution_count": 13,
   "metadata": {
    "id": "3MQFdoe8k2IS"
   },
   "outputs": [],
   "source": [
    "# menentukan dan mengkonfigurasi fungsi kmeansnya\n",
    "kmeans = KMeans(n_clusters = 3, random_state=100)"
   ]
  },
  {
   "cell_type": "code",
   "execution_count": 14,
   "metadata": {
    "colab": {
     "base_uri": "https://localhost:8080/"
    },
    "id": "g-nEWjaJoGFP",
    "outputId": "6069d009-3a95-4cfc-fb1a-f1d2fb52c522"
   },
   "outputs": [
    {
     "data": {
      "text/plain": [
       "KMeans(n_clusters=3, random_state=100)"
      ]
     },
     "execution_count": 14,
     "metadata": {},
     "output_type": "execute_result"
    }
   ],
   "source": [
    "kmeans.fit(x_scaled)"
   ]
  },
  {
   "cell_type": "code",
   "execution_count": 15,
   "metadata": {
    "colab": {
     "base_uri": "https://localhost:8080/"
    },
    "id": "N_YwdEr2oMQ7",
    "outputId": "82347ec5-8d6c-4e6c-eb4a-23d812f08e51"
   },
   "outputs": [
    {
     "name": "stdout",
     "output_type": "stream",
     "text": [
      "[[0.20596206 0.67344173]\n",
      " [0.42495127 0.26803119]\n",
      " [0.70634921 0.51322751]]\n"
     ]
    }
   ],
   "source": [
    "# menampilkan pusat kluster\n",
    "print(kmeans.cluster_centers_)"
   ]
  },
  {
   "cell_type": "code",
   "execution_count": 16,
   "metadata": {
    "colab": {
     "base_uri": "https://localhost:8080/",
     "height": 206
    },
    "id": "-QsQQarooTrz",
    "outputId": "c16e9a78-8afa-4d32-989a-b5ab23c502bc"
   },
   "outputs": [
    {
     "data": {
      "text/html": [
       "<div>\n",
       "<style scoped>\n",
       "    .dataframe tbody tr th:only-of-type {\n",
       "        vertical-align: middle;\n",
       "    }\n",
       "\n",
       "    .dataframe tbody tr th {\n",
       "        vertical-align: top;\n",
       "    }\n",
       "\n",
       "    .dataframe thead th {\n",
       "        text-align: right;\n",
       "    }\n",
       "</style>\n",
       "<table border=\"1\" class=\"dataframe\">\n",
       "  <thead>\n",
       "    <tr style=\"text-align: right;\">\n",
       "      <th></th>\n",
       "      <th>SepalLengthCm</th>\n",
       "      <th>SepalWidthCm</th>\n",
       "      <th>kluster</th>\n",
       "    </tr>\n",
       "  </thead>\n",
       "  <tbody>\n",
       "    <tr>\n",
       "      <th>0</th>\n",
       "      <td>4.6</td>\n",
       "      <td>3.1</td>\n",
       "      <td>0</td>\n",
       "    </tr>\n",
       "    <tr>\n",
       "      <th>1</th>\n",
       "      <td>5.0</td>\n",
       "      <td>3.6</td>\n",
       "      <td>0</td>\n",
       "    </tr>\n",
       "    <tr>\n",
       "      <th>2</th>\n",
       "      <td>5.4</td>\n",
       "      <td>3.9</td>\n",
       "      <td>0</td>\n",
       "    </tr>\n",
       "    <tr>\n",
       "      <th>3</th>\n",
       "      <td>4.9</td>\n",
       "      <td>3.1</td>\n",
       "      <td>0</td>\n",
       "    </tr>\n",
       "    <tr>\n",
       "      <th>4</th>\n",
       "      <td>5.4</td>\n",
       "      <td>3.7</td>\n",
       "      <td>0</td>\n",
       "    </tr>\n",
       "  </tbody>\n",
       "</table>\n",
       "</div>"
      ],
      "text/plain": [
       "   SepalLengthCm  SepalWidthCm  kluster\n",
       "0            4.6           3.1        0\n",
       "1            5.0           3.6        0\n",
       "2            5.4           3.9        0\n",
       "3            4.9           3.1        0\n",
       "4            5.4           3.7        0"
      ]
     },
     "execution_count": 16,
     "metadata": {},
     "output_type": "execute_result"
    }
   ],
   "source": [
    "df_x['kluster'] = kmeans.labels_\n",
    "df_x.head()"
   ]
  },
  {
   "cell_type": "code",
   "execution_count": null,
   "metadata": {
    "colab": {
     "base_uri": "https://localhost:8080/",
     "height": 384
    },
    "id": "H3vYb2ecof5S",
    "outputId": "bedceffd-a879-4af9-bfc1-dce5d7500864"
   },
   "outputs": [
    {
     "name": "stderr",
     "output_type": "stream",
     "text": [
      "/usr/local/lib/python3.8/dist-packages/matplotlib/backends/backend_agg.py:214: RuntimeWarning: Glyph 9 missing from current font.\n",
      "  font.set_text(s, 0.0, flags=flags)\n",
      "/usr/local/lib/python3.8/dist-packages/matplotlib/backends/backend_agg.py:183: RuntimeWarning: Glyph 9 missing from current font.\n",
      "  font.set_text(s, 0, flags=flags)\n"
     ]
    },
    {
     "data": {
      "image/png": "[encoded data removed]",
      "text/plain": [
       "<Figure size 432x288 with 1 Axes>"
      ]
     },
     "metadata": {
      "needs_background": "light"
     },
     "output_type": "display_data"
    }
   ],
   "source": [
    "fig, ax = plt.subplots()\n",
    "sct = plt.scatter(x_scaled[:,1], x_scaled[:,0], s = 100, \n",
    "c = df_x.kluster, marker = 'o', alpha = 0.5,\n",
    "label = df_x.kluster)\n",
    "centers = kmeans.cluster_centers_\n",
    "plt.scatter(centers[:,1], centers[:,0], c='blue', s=200, alpha=0.5);\n",
    "plt.title('Hasil Klustering K-Means')\n",
    "plt.xlabel('Scaled SepalLengthCm')\n",
    "plt.ylabel('Scaled SepalWidthCm\t')\n",
    "plt.show()"
   ]
  },
  {
   "cell_type": "code",
   "execution_count": null,
   "metadata": {
    "colab": {
     "base_uri": "https://localhost:8080/",
     "height": 681
    },
    "id": "TmWkMV9ppZAb",
    "outputId": "891cd229-a943-4b6a-a6a9-553a3deeb968"
   },
   "outputs": [
    {
     "name": "stderr",
     "output_type": "stream",
     "text": [
      "/usr/local/lib/python3.8/dist-packages/seaborn/_decorators.py:36: FutureWarning: Pass the following variables as keyword args: x, y. From version 0.12, the only valid positional argument will be `data`, and passing other arguments without an explicit keyword will result in an error or misinterpretation.\n",
      "  warnings.warn(\n",
      "/usr/local/lib/python3.8/dist-packages/seaborn/_decorators.py:36: FutureWarning: Pass the following variables as keyword args: x, y. From version 0.12, the only valid positional argument will be `data`, and passing other arguments without an explicit keyword will result in an error or misinterpretation.\n",
      "  warnings.warn(\n"
     ]
    },
    {
     "data": {
      "image/png": "[encoded data removed]",
      "text/plain": [
       "<Figure size 720x720 with 1 Axes>"
      ]
     },
     "metadata": {
      "needs_background": "light"
     },
     "output_type": "display_data"
    }
   ],
   "source": [
    "# menampilkan hasil kluster dalam bentuk plot dengan tambahan legend dan dalam betuk yang lebih bagus.\n",
    "plt.figure(figsize=[10,10])\n",
    "sns.scatterplot(x_scaled[:,1], x_scaled[:,0], hue = df_x.kluster, palette='Set1', s = 100, alpha = 0.7)\n",
    "sns.scatterplot(centers[:,1], centers[:,0], color = 'k', s = 200, alpha = 0.8);"
   ]
  }
 ],
 "metadata": {
  "colab": {
   "provenance": []
  },
  "kernelspec": {
   "display_name": "Python 3",
   "language": "python",
   "name": "python3"
  },
  "language_info": {
   "codemirror_mode": {
    "name": "ipython",
    "version": 3
   },
   "file_extension": ".py",
   "mimetype": "text/x-python",
   "name": "python",
   "nbconvert_exporter": "python",
   "pygments_lexer": "ipython3",
   "version": "3.8.8"
  }
 },
 "nbformat": 4,
 "nbformat_minor": 1
}
